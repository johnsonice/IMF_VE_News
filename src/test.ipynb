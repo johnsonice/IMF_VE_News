{
 "cells": [
  {
   "cell_type": "code",
   "execution_count": 1,
   "metadata": {
    "collapsed": true
   },
   "outputs": [],
   "source": [
    "\"\"\"\n",
    "collate info for documents to speed things up downstream\n",
    "\"\"\"\n",
    "import argparse\n",
    "import pandas as pd\n",
    "from datetime import datetime as dt\n",
    "import ujson as json\n",
    "from glob import glob\n",
    "from crisis_points import crisis_points\n",
    "from frequency_utils import list_crisis_docs\n",
    "import os\n",
    "\n",
    "#%%\n",
    "def time_index(docs, lang=None, verbose=False):\n",
    "    doc_details = {}\n",
    "    tot = len(docs)\n",
    "    for i, doc in enumerate(docs):\n",
    "        if verbose:\n",
    "            print('\\r{} of {} processed'.format(i, tot), end='')\n",
    "        with open(doc, 'r', encoding='utf-8') as f:\n",
    "            art = json.loads(f.read())\n",
    "            try:\n",
    "                if lang:\n",
    "                    if art['language_code'] != lang:\n",
    "                        continue\n",
    "                date = pd.to_datetime(dt.fromtimestamp(art['publication_date'] / 1e3))\n",
    "                doc_details[art['an']] = {'date': date}\n",
    "            except Exception as e:\n",
    "                print(art['an'] + ': ' + e.characters_written)\n",
    "    data = pd.DataFrame(doc_details).T\n",
    "    return data\n",
    "#%%\n",
    "\n",
    "def period_info(doc_deets):\n",
    "    dates = pd.DatetimeIndex(doc_deets['date'])\n",
    "    doc_deets['week'] = dates.to_period('W')\n",
    "    doc_deets['month'] = dates.to_period('M')\n",
    "    doc_deets['quarter'] = dates.to_period('Q')\n",
    "    return doc_deets\n",
    "\n",
    "\n",
    "def label_crisis(data, path, verbose=False, period='crisis'):\n",
    "    data['crisis'] = 0\n",
    "    crisis = []\n",
    "    for country in crisis_points.keys():\n",
    "        if verbose:\n",
    "            print(\"\\nworking on {}...\".format(country))\n",
    "        crisis_docs = list_crisis_docs(country, path,doc_data=data, period=period)\n",
    "        crisis_ids = [os.path.basename(doc).replace(\".json\", '') for doc in crisis_docs]\n",
    "        crisis += crisis_ids\n",
    "    data.loc[data.index.isin(crisis), 'crisis'] = 1\n",
    "    return data\n",
    "\n",
    "class args_class(object):\n",
    "    def __init__(self, in_dir,out_dir,period='crisis',verbose=True):\n",
    "        self.in_dir = in_dir\n",
    "        self.out_dir = out_dir\n",
    "        self.period=period\n",
    "        self.verbose = verbose\n",
    "        \n",
    "#%%\n",
    "\n"
   ]
  },
  {
   "cell_type": "code",
   "execution_count": 2,
   "metadata": {
    "collapsed": true
   },
   "outputs": [],
   "source": [
    "args = args_class('../cleaned_small','../data/doc_meta', verbose = False)\n",
    " \n",
    "doc_paths = glob(args.in_dir + '/*.json')\n",
    "deets = time_index(doc_paths, lang='en', verbose=args.verbose)\n",
    "\n",
    " "
   ]
  },
  {
   "cell_type": "code",
   "execution_count": 4,
   "metadata": {},
   "outputs": [
    {
     "data": {
      "text/plain": [
       "'../cleaned_small'"
      ]
     },
     "execution_count": 4,
     "metadata": {},
     "output_type": "execute_result"
    }
   ],
   "source": [
    "args.in_dir\n"
   ]
  },
  {
   "cell_type": "code",
   "execution_count": null,
   "metadata": {
    "collapsed": true
   },
   "outputs": [],
   "source": [
    "deets = period_info(deets)\n",
    "deets = label_crisis(deets, path = args.in_dir, verbose=args.verbose, period=args.period)\n",
    "deets.to_pickle(os.path.join(args.out_dir, 'doc_details_{}.pkl'.format(args.period)))"
   ]
  }
 ],
 "metadata": {
  "kernelspec": {
   "display_name": "Python 3",
   "language": "python",
   "name": "python3"
  },
  "language_info": {
   "codemirror_mode": {
    "name": "ipython",
    "version": 3
   },
   "file_extension": ".py",
   "mimetype": "text/x-python",
   "name": "python",
   "nbconvert_exporter": "python",
   "pygments_lexer": "ipython3",
   "version": "3.6.3"
  }
 },
 "nbformat": 4,
 "nbformat_minor": 2
}
