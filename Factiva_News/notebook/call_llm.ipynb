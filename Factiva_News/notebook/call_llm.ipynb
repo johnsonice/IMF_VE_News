{
 "cells": [
  {
   "cell_type": "code",
   "execution_count": 3,
   "id": "44cf19c4",
   "metadata": {},
   "outputs": [
    {
     "ename": "ImportError",
     "evalue": "attempted relative import with no known parent package",
     "output_type": "error",
     "traceback": [
      "\u001b[31m---------------------------------------------------------------------------\u001b[39m",
      "\u001b[31mImportError\u001b[39m                               Traceback (most recent call last)",
      "\u001b[36mCell\u001b[39m\u001b[36m \u001b[39m\u001b[32mIn[3]\u001b[39m\u001b[32m, line 5\u001b[39m\n\u001b[32m      3\u001b[39m \u001b[38;5;28;01mfrom\u001b[39;00m\u001b[38;5;250m \u001b[39m\u001b[34;01mdotenv\u001b[39;00m\u001b[38;5;250m \u001b[39m\u001b[38;5;28;01mimport\u001b[39;00m load_dotenv\n\u001b[32m      4\u001b[39m load_dotenv(\u001b[33m'\u001b[39m\u001b[33m../.env\u001b[39m\u001b[33m'\u001b[39m)\n\u001b[32m----> \u001b[39m\u001b[32m5\u001b[39m \u001b[38;5;28;01mfrom\u001b[39;00m\u001b[38;5;250m \u001b[39m\u001b[34;01m.\u001b[39;00m\u001b[34;01m.\u001b[39;00m\u001b[34;01mlibs\u001b[39;00m\u001b[34;01m.\u001b[39;00m\u001b[34;01mllm_factory_openai\u001b[39;00m\u001b[38;5;250m \u001b[39m\u001b[38;5;28;01mimport\u001b[39;00m SimpleLLMAgent\n\u001b[32m      6\u001b[39m \u001b[38;5;66;03m# Import our general LLM factory\u001b[39;00m\n\u001b[32m      7\u001b[39m \u001b[38;5;28;01mfrom\u001b[39;00m\u001b[38;5;250m \u001b[39m\u001b[34;01m.\u001b[39;00m\u001b[34;01m.\u001b[39;00m\u001b[34;01mlibs\u001b[39;00m\u001b[34;01m.\u001b[39;00m\u001b[34;01mllm_factory_general\u001b[39;00m\u001b[38;5;250m \u001b[39m\u001b[38;5;28;01mimport\u001b[39;00m (\n\u001b[32m      8\u001b[39m     GeneralLLMFactory,\n\u001b[32m      9\u001b[39m     ModelConfig,\n\u001b[32m   (...)\u001b[39m\u001b[32m     14\u001b[39m     create_openai_compatible_factory\n\u001b[32m     15\u001b[39m )\n",
      "\u001b[31mImportError\u001b[39m: attempted relative import with no known parent package"
     ]
    }
   ],
   "source": [
    "\n",
    "import instructor\n",
    "from pydantic import BaseModel\n",
    "from dotenv import load_dotenv\n",
    "load_dotenv('../.env')\n",
    "from ..libs.llm_factory_openai import SimpleLLMAgent\n",
    "# Import our general LLM factory\n",
    "from ..libs.llm_factory_general import (\n",
    "    GeneralLLMFactory,\n",
    "    ModelConfig,\n",
    "    ProviderType,\n",
    "    create_openai_factory,\n",
    "    create_google_gemini_factory,\n",
    "    create_anthropic_factory,\n",
    "    create_openai_compatible_factory\n",
    ")\n"
   ]
  },
  {
   "cell_type": "code",
   "execution_count": null,
   "id": "71a2f626",
   "metadata": {},
   "outputs": [],
   "source": [
    "print(\"=== General LLM Factory Examples ===\")\n",
    "\n",
    "# OpenAI example\n",
    "try:\n",
    "    openai_factory = create_openai_factory()\n",
    "    print(\"OpenAI factory created successfully\")\n",
    "    \n",
    "    # Test connection\n",
    "    result = openai_factory.test_connection()\n",
    "    print(f\"OpenAI test result: {result}\")\n",
    "    \n",
    "    # Get provider info\n",
    "    info = openai_factory.get_provider_info()\n",
    "    print(f\"OpenAI provider info: {info}\")\n",
    "    \n",
    "except Exception as e:\n",
    "    print(f\"OpenAI factory failed: {e}\")\n",
    "    "
   ]
  },
  {
   "cell_type": "code",
   "execution_count": 3,
   "id": "f16915e1",
   "metadata": {},
   "outputs": [
    {
     "name": "stdout",
     "output_type": "stream",
     "text": [
      "name='John' age=25\n"
     ]
    }
   ],
   "source": [
    "client = instructor.from_provider(\"openai/gpt-4.1\")\n",
    "\n",
    "class User(BaseModel):\n",
    "    name: str\n",
    "    age: int\n",
    "\n",
    "user = client.chat.completions.create(\n",
    "    response_model=User,\n",
    "    messages=[{\"role\": \"user\", \"content\": \"John is 25 years old\"}],\n",
    ")\n",
    "\n",
    "print(user) "
   ]
  },
  {
   "cell_type": "code",
   "execution_count": 7,
   "id": "a2679945",
   "metadata": {},
   "outputs": [],
   "source": [
    "string_user = client.chat.completions.create(\n",
    "    response_model=str,\n",
    "    messages=[{\"role\": \"user\", \"content\": \"John is 25 years old\"}],\n",
    ")\n"
   ]
  },
  {
   "cell_type": "code",
   "execution_count": 8,
   "id": "b2e4425f",
   "metadata": {},
   "outputs": [
    {
     "data": {
      "text/plain": [
       "'Okay, John is 25 years old. How can I assist you with this information?'"
      ]
     },
     "execution_count": 8,
     "metadata": {},
     "output_type": "execute_result"
    }
   ],
   "source": [
    "string_user"
   ]
  },
  {
   "cell_type": "code",
   "execution_count": null,
   "id": "aa0e1e59",
   "metadata": {},
   "outputs": [],
   "source": []
  }
 ],
 "metadata": {
  "kernelspec": {
   "display_name": "factiva",
   "language": "python",
   "name": "python3"
  },
  "language_info": {
   "codemirror_mode": {
    "name": "ipython",
    "version": 3
   },
   "file_extension": ".py",
   "mimetype": "text/x-python",
   "name": "python",
   "nbconvert_exporter": "python",
   "pygments_lexer": "ipython3",
   "version": "3.12.0"
  }
 },
 "nbformat": 4,
 "nbformat_minor": 5
}
