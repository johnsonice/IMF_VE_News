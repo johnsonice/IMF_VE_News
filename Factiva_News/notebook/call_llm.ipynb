{
 "cells": [
  {
   "cell_type": "code",
   "execution_count": 1,
   "id": "44cf19c4",
   "metadata": {},
   "outputs": [
    {
     "data": {
      "text/plain": [
       "True"
      ]
     },
     "execution_count": 1,
     "metadata": {},
     "output_type": "execute_result"
    }
   ],
   "source": [
    "\n",
    "import sys\n",
    "import os\n",
    "from pathlib import Path\n",
    "import instructor\n",
    "from pydantic import BaseModel\n",
    "sys.path.insert(0, '../libs')\n",
    "# Import SimpleLLMAgent from libs directory\n",
    "from llm_factory_openai import SimpleLLMAgent\n",
    "\n",
    "# Import our general LLM factory\n",
    "from llm_factory_general import (\n",
    "    GeneralLLMFactory,\n",
    "    create_openai_factory,\n",
    "    create_google_gemini_factory,\n",
    "    create_anthropic_factory,\n",
    "    create_openai_compatible_factory\n",
    ")\n",
    "\n",
    "from dotenv import load_dotenv\n",
    "# Load environment variables from .env file\n",
    "load_dotenv('../.env')\n",
    "\n"
   ]
  },
  {
   "cell_type": "code",
   "execution_count": 2,
   "id": "bcddf293",
   "metadata": {},
   "outputs": [
    {
     "name": "stdout",
     "output_type": "stream",
     "text": [
      "=== General LLM Factory Examples ===\n",
      "OpenAI test result: Connection successful\n",
      "Hello! How can I help you today?\n"
     ]
    }
   ],
   "source": [
    "\n",
    "print(\"=== General LLM Factory Examples ===\")\n",
    "openai_factory = create_openai_factory(model_name='gpt-4.1',\n",
    "                                        temperature=0.0,\n",
    "                                        max_tokens=8000,\n",
    "                                        )\n",
    "result = openai_factory.test_connection()\n",
    "print(f\"OpenAI test result: {result}\")\n",
    "messages = [{\"role\": \"user\", \"content\": 'hi'}]\n",
    "response = openai_factory.get_response_content(messages,response_model=str)\n",
    "print(response)\n"
   ]
  },
  {
   "cell_type": "code",
   "execution_count": null,
   "id": "aa0e1e59",
   "metadata": {},
   "outputs": [],
   "source": []
  }
 ],
 "metadata": {
  "kernelspec": {
   "display_name": "factiva",
   "language": "python",
   "name": "python3"
  },
  "language_info": {
   "codemirror_mode": {
    "name": "ipython",
    "version": 3
   },
   "file_extension": ".py",
   "mimetype": "text/x-python",
   "name": "python",
   "nbconvert_exporter": "python",
   "pygments_lexer": "ipython3",
   "version": "3.12.0"
  }
 },
 "nbformat": 4,
 "nbformat_minor": 5
}
