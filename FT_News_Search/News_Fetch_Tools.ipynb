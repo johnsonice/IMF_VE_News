{
 "cells": [
  {
   "cell_type": "markdown",
   "id": "e4e1e4e9",
   "metadata": {},
   "source": [
    "### Documentations "
   ]
  },
  {
   "cell_type": "markdown",
   "id": "a9167280",
   "metadata": {},
   "source": [
    "- https://newscatcherapi.com/blog/python-web-scraping-libraries-to-mine-news-data\n",
    "    "
   ]
  },
  {
   "cell_type": "markdown",
   "id": "627aa041",
   "metadata": {},
   "source": [
    "### Use google news "
   ]
  },
  {
   "cell_type": "code",
   "execution_count": 2,
   "id": "0f6a9429",
   "metadata": {},
   "outputs": [],
   "source": [
    "from pygooglenews import GoogleNews\n",
    "import json\n",
    "import time"
   ]
  },
  {
   "cell_type": "markdown",
   "id": "ee84a3ce",
   "metadata": {},
   "source": [
    "- get top news "
   ]
  },
  {
   "cell_type": "code",
   "execution_count": 3,
   "id": "f7276575",
   "metadata": {},
   "outputs": [],
   "source": [
    "gn = GoogleNews()\n",
    "top = gn.top_news()"
   ]
  },
  {
   "cell_type": "code",
   "execution_count": 18,
   "id": "e073cbe3",
   "metadata": {},
   "outputs": [
    {
     "name": "stdout",
     "output_type": "stream",
     "text": [
      "<built-in method keys of FeedParserDict object at 0x00000235E843D090>\n",
      "1. Durham report: FBI criticised by special counsel for Trump-Russia inquiry - BBCMon, 15 May 2023 22:16:03 GMT; https://news.google.com/rss/articles/CBMiMWh0dHBzOi8vd3d3LmJiYy5jb20vbmV3cy93b3JsZC11cy1jYW5hZGEtNjU2MDI5MDnSATVodHRwczovL3d3dy5iYmMuY29tL25ld3Mvd29ybGQtdXMtY2FuYWRhLTY1NjAyOTA5LmFtcA?oc=5\n",
      "2. New Mexico shooting: 3 dead, 2 wounded in Farmington attack - NBC NewsMon, 15 May 2023 22:46:54 GMT; https://news.google.com/rss/articles/CBMidWh0dHBzOi8vd3d3Lm5iY25ld3MuY29tL25ld3MvdXMtbmV3cy9mYXJtaW5ndG9uLW5ldy1tZXhpY28tc2hvb3RpbmctbGVhc3QtMy1wZW9wbGUta2lsbGVkLTItb2ZmaWNlcnMtd291bmRlLXJjbmE4NDU0MNIBKmh0dHBzOi8vd3d3Lm5iY25ld3MuY29tL25ld3MvYW1wL3JjbmE4NDU0MA?oc=5\n",
      "3. Democratic congressman's staff attacked by man with baseball bat - CNNMon, 15 May 2023 23:59:00 GMT; https://news.google.com/rss/articles/CBMiUmh0dHBzOi8vd3d3LmNubi5jb20vMjAyMy8wNS8xNS9wb2xpdGljcy9nZXJyeS1jb25ub2xseS1zdGFmZmVyLWF0dGFja2VkL2luZGV4Lmh0bWzSAVZodHRwczovL2FtcC5jbm4uY29tL2Nubi8yMDIzLzA1LzE1L3BvbGl0aWNzL2dlcnJ5LWNvbm5vbGx5LXN0YWZmZXItYXR0YWNrZWQvaW5kZXguaHRtbA?oc=5\n",
      "4. Supreme Court will hear a subpoena case that — surprise — Trump and Biden agree on - NPRMon, 15 May 2023 20:30:12 GMT; https://news.google.com/rss/articles/CBMiWmh0dHBzOi8vd3d3Lm5wci5vcmcvMjAyMy8wNS8xNS8xMTYzMjQxNzM0L3N1cHJlbWUtY291cnQtc3VicG9lbmEtY2FzZS1jb25ncmVzcy10cnVtcC1iaWRlbtIBAA?oc=5\n",
      "5. DeSantis defunds diversity programs at Florida public colleges - ReutersMon, 15 May 2023 21:47:00 GMT; https://news.google.com/rss/articles/CBMiaGh0dHBzOi8vd3d3LnJldXRlcnMuY29tL3dvcmxkL3VzL2Rlc2FudGlzLWRlZnVuZHMtZGl2ZXJzaXR5LXByb2dyYW1zLWZsb3JpZGEtcHVibGljLWNvbGxlZ2VzLTIwMjMtMDUtMTUv0gEA?oc=5\n"
     ]
    }
   ],
   "source": [
    "entries = top[\"entries\"]\n",
    "count = 0\n",
    "print(entries[0].keys)\n",
    "for entry in entries[:5]:\n",
    "  count = count + 1\n",
    "  print(\n",
    "    str(count) + \". \" + entry[\"title\"] + entry[\"published\"] + \"; \" +entry[\"link\"]\n",
    "  )\n",
    "  time.sleep(0.25)"
   ]
  },
  {
   "cell_type": "markdown",
   "id": "22f88579",
   "metadata": {},
   "source": [
    "- To get the top headlines related to “Business” or you could have replaced it with “gn.geo_headlines('San Fran')” to get the top news in the San Fransisco region.\n"
   ]
  },
  {
   "cell_type": "code",
   "execution_count": 29,
   "id": "e0104754",
   "metadata": {},
   "outputs": [
    {
     "name": "stdout",
     "output_type": "stream",
     "text": [
      "dict_keys(['title', 'title_detail', 'links', 'link', 'id', 'guidislink', 'published', 'published_parsed', 'summary', 'summary_detail', 'source', 'sub_articles'])\n",
      "title: Elon Musk documents subpoenaed in Jeffrey Epstein lawsuit by U.S. Virgin Islands - Reuters; \n",
      " Link: https://news.google.com/rss/articles/CBMia2h0dHBzOi8vd3d3LnJldXRlcnMuY29tL2xlZ2FsL3VzLXZpcmdpbi1pc2xhbmRzLXN1YnBvZW5hZWQtZWxvbi1tdXNrLWplZmZyZXktZXBzdGVpbi1saXRpZ2F0aW9uLTIwMjMtMDUtMTUv0gEA?oc=5\n"
     ]
    }
   ],
   "source": [
    "biz = gn.topic_headlines('business')\n",
    "print(biz['entries'][0].keys())\n",
    "print(\"title: {}; \\n Link: {}\".format(\n",
    "    biz['entries'][0]['title'],\n",
    "    #biz['entries'][0]['summary'],\n",
    "    biz['entries'][0]['link'],\n",
    "))"
   ]
  },
  {
   "cell_type": "code",
   "execution_count": 31,
   "id": "6f79ed0f",
   "metadata": {},
   "outputs": [
    {
     "name": "stdout",
     "output_type": "stream",
     "text": [
      "dict_keys(['title', 'title_detail', 'links', 'link', 'id', 'guidislink', 'published', 'published_parsed', 'summary', 'summary_detail', 'source', 'sub_articles'])\n"
     ]
    }
   ],
   "source": [
    "gs = gn.search('boeing OR airbus')\n",
    "print(gs['entries'][0].keys())"
   ]
  },
  {
   "cell_type": "markdown",
   "id": "76c1260c",
   "metadata": {},
   "source": [
    "### NewsCatcher"
   ]
  },
  {
   "cell_type": "code",
   "execution_count": 32,
   "id": "63db7285",
   "metadata": {},
   "outputs": [],
   "source": [
    "from newscatcher import Newscatcher, describe_url"
   ]
  },
  {
   "cell_type": "code",
   "execution_count": 40,
   "id": "f4ae3536",
   "metadata": {
    "scrolled": false
   },
   "outputs": [
    {
     "data": {
      "text/plain": [
       "dict_keys(['title', 'title_detail', 'links', 'link', 'id', 'guidislink', 'summary', 'summary_detail', 'authors', 'author', 'author_detail', 'published', 'published_parsed', 'tags', 'media_content', 'media_credit', 'credit', 'content'])"
      ]
     },
     "execution_count": 40,
     "metadata": {},
     "output_type": "execute_result"
    }
   ],
   "source": [
    "nyt = Newscatcher(website = 'nytimes.com')\n",
    "results = nyt.get_news()\n",
    "results['articles'][0].keys()"
   ]
  },
  {
   "cell_type": "code",
   "execution_count": 47,
   "id": "e586f543",
   "metadata": {},
   "outputs": [
    {
     "data": {
      "text/plain": [
       "'His trips to Britain, Germany, France and Italy demonstrated the shifting political landscape when it comes to supporting Kyiv, as concerns grow about U.S. backing as the presidential election looms.'"
      ]
     },
     "execution_count": 47,
     "metadata": {},
     "output_type": "execute_result"
    }
   ],
   "source": [
    "results['articles'][0]['summary']"
   ]
  },
  {
   "cell_type": "code",
   "execution_count": 46,
   "id": "3f6473f6",
   "metadata": {},
   "outputs": [
    {
     "name": "stdout",
     "output_type": "stream",
     "text": [
      "1. In European Tour, Zelensky Reaps Billions More in Promised Military Aid\n",
      "\t\tTue, 16 May 2023 00:08:31 +0000\n",
      "\t\thttps://www.nytimes.com/2023/05/15/world/europe/ukraine-war-zelensky-foreign-aid.html\n",
      "\n",
      "\n",
      "2. Former U.S. Embassy Employee Is Being Held in Moscow, Russian State News Says\n",
      "\t\tTue, 16 May 2023 00:32:34 +0000\n",
      "\t\thttps://www.nytimes.com/2023/05/15/world/europe/robert-shonov-detained-russia-moscow.html\n",
      "\n",
      "\n"
     ]
    }
   ],
   "source": [
    "count = 0\n",
    "articles = results['articles']\n",
    "for article in articles[:2]:   \n",
    "   count+=1\n",
    "   print(\n",
    "     str(count) + \". \" + article[\"title\"] \\\n",
    "     + \"\\n\\t\\t\" + article[\"published\"] \\\n",
    "     + \"\\n\\t\\t\" + article[\"link\"]\\\n",
    "     + \"\\n\\n\"\n",
    "     )\n",
    "   time.sleep(0.33)"
   ]
  },
  {
   "cell_type": "markdown",
   "id": "22a37922",
   "metadata": {},
   "source": [
    "### News3k extral the actual body of news, can combine with all previous tools "
   ]
  },
  {
   "cell_type": "code",
   "execution_count": null,
   "id": "b73ebde6",
   "metadata": {},
   "outputs": [],
   "source": [
    "import newspaper\n",
    "import json"
   ]
  },
  {
   "cell_type": "code",
   "execution_count": 53,
   "id": "343cc702",
   "metadata": {},
   "outputs": [
    {
     "name": "stdout",
     "output_type": "stream",
     "text": [
      "In European Tour, Zelensky Reaps Billions More in Promised Military Aid\n",
      "\t\t2023-05-15 00:00:00\n",
      "\n",
      "\n",
      "President Volodymyr Zelensky of Ukraine has been promised billions of dollars in new military aid during a whirlwind tour of European allies that reflects a striking shift in the political landscape, as Europe takes a more central role in arming Ukraine for its anticipated counteroffensive to drive Russia from its territory.\n",
      "\n",
      "Mr. Zelensky’s four-country tour began in Italy on Saturday and ended in Britain on Monday, when Prime Minister Rishi Sunak pledged to provide a major package of air-defense missiles and attack drones. That was in addition to Britain’s recent delivery of long-range cruise missiles. And it followed Germany’s pledge to give Ukraine a nearly $3 billion package of weapons, as well as less concrete promises of additional weapons from France and Italy.\n",
      "\n",
      "Europe’s show of support for Ukraine, analysts said, underscores that the war is in a pivotal phase, with Ukrainian forces massing for a counteroffensive that could set the terms for any future negotiation with Russia. It also reflects a recognition that support for Ukraine in the United States, still by far the largest supplier of weapons, is likely to come under pressure.\n",
      "\n",
      "Mr. Zelensky is concerned that as the American presidential race heats up, President Biden will be less able to lead diplomatic efforts, German and Ukrainian officials said. Should a Republican win the White House, officials worry there will be a collapse in leadership among Western allies.\n",
      "\n",
      "\n"
     ]
    }
   ],
   "source": [
    "## try an article from previously retrieved news article \n",
    "url = articles[0][\"link\"]\n",
    "#url = 'https://www.nytimes.com/live/2021/10/25/us/biden-spending-bill-negotiations'\n",
    "  \n",
    "article = newspaper.Article(url=url, language='en')\n",
    "article.download()\n",
    "article.parse()\n",
    "\n",
    "article ={\n",
    "    \"title\": str(article.title),\n",
    "    \"text\": str(article.text),\n",
    "    \"authors\": article.authors,\n",
    "    \"published_date\": str(article.publish_date),\n",
    "    \"top_image\": str(article.top_image),\n",
    "    \"videos\": article.movies,\n",
    "    \"keywords\": article.keywords,\n",
    "    \"summary\": str(article.summary)\n",
    "}\n",
    "\n",
    "\n",
    "print(article[\"title\"] \\\n",
    "     + \"\\n\\t\\t\" + article[\"published_date\"] \\\n",
    "     + \"\\n\\n\"\\\n",
    "     + \"\\n\" + article[\"text\"]\\\n",
    "     + \"\\n\\n\")"
   ]
  },
  {
   "cell_type": "markdown",
   "id": "5101d3d4",
   "metadata": {},
   "source": [
    "### GDELT\n",
    "- https://github.com/alex9smith/gdelt-doc-api\n",
    "- I think it is using the full text search api end point:\n",
    "https://blog.gdeltproject.org/announcing-the-gdelt-full-text-search-api/"
   ]
  },
  {
   "cell_type": "code",
   "execution_count": 54,
   "id": "c9c270e4",
   "metadata": {},
   "outputs": [],
   "source": [
    "from gdeltdoc import GdeltDoc, Filters"
   ]
  },
  {
   "cell_type": "code",
   "execution_count": 69,
   "id": "94663cb8",
   "metadata": {},
   "outputs": [],
   "source": [
    "f = Filters(\n",
    "    keyword = \"climate change\",\n",
    "    start_date = \"2022-01-10\",\n",
    "    end_date = \"2023-01-10\"\n",
    ")\n",
    "\n",
    "gd = GdeltDoc()\n",
    "\n",
    "# Search for articles matching the filters\n",
    "articles = gd.article_search(f)\n",
    "\n",
    "# Get a timeline of the number of articles matching the filters\n",
    "timeline = gd.timeline_search(\"timelinevol\", f)"
   ]
  },
  {
   "cell_type": "code",
   "execution_count": 83,
   "id": "2a6f5341",
   "metadata": {},
   "outputs": [
    {
     "data": {
      "text/plain": [
       "Index(['url', 'url_mobile', 'title', 'seendate', 'socialimage', 'domain',\n",
       "       'language', 'sourcecountry'],\n",
       "      dtype='object')"
      ]
     },
     "execution_count": 83,
     "metadata": {},
     "output_type": "execute_result"
    }
   ],
   "source": [
    "articles.columns"
   ]
  },
  {
   "cell_type": "code",
   "execution_count": 70,
   "id": "460aee70",
   "metadata": {},
   "outputs": [
    {
     "data": {
      "text/html": [
       "<div>\n",
       "<style scoped>\n",
       "    .dataframe tbody tr th:only-of-type {\n",
       "        vertical-align: middle;\n",
       "    }\n",
       "\n",
       "    .dataframe tbody tr th {\n",
       "        vertical-align: top;\n",
       "    }\n",
       "\n",
       "    .dataframe thead th {\n",
       "        text-align: right;\n",
       "    }\n",
       "</style>\n",
       "<table border=\"1\" class=\"dataframe\">\n",
       "  <thead>\n",
       "    <tr style=\"text-align: right;\">\n",
       "      <th></th>\n",
       "      <th>url</th>\n",
       "      <th>url_mobile</th>\n",
       "      <th>title</th>\n",
       "      <th>seendate</th>\n",
       "      <th>socialimage</th>\n",
       "      <th>domain</th>\n",
       "      <th>language</th>\n",
       "      <th>sourcecountry</th>\n",
       "    </tr>\n",
       "  </thead>\n",
       "  <tbody>\n",
       "    <tr>\n",
       "      <th>0</th>\n",
       "      <td>https://allafrica.com/stories/202301050112.html</td>\n",
       "      <td></td>\n",
       "      <td>Nigeria : Environmentalist Seeks Adoption of R...</td>\n",
       "      <td>20230105T101500Z</td>\n",
       "      <td></td>\n",
       "      <td>allafrica.com</td>\n",
       "      <td>English</td>\n",
       "      <td>Nigeria</td>\n",
       "    </tr>\n",
       "    <tr>\n",
       "      <th>1</th>\n",
       "      <td>https://www.kompas.com/tren/read/2022/12/24/10...</td>\n",
       "      <td>https://amp.kompas.com/tren/read/2022/12/24/10...</td>\n",
       "      <td>Solusi terhadap Kegagalan Iptek Tentang Peruba...</td>\n",
       "      <td>20221224T034500Z</td>\n",
       "      <td>https://asset.kompas.com/crops/VjPBa0yy7Cq-sXn...</td>\n",
       "      <td>kompas.com</td>\n",
       "      <td>Indonesian</td>\n",
       "      <td>Indonesia</td>\n",
       "    </tr>\n",
       "    <tr>\n",
       "      <th>2</th>\n",
       "      <td>https://www.cma.gov.cn/2011xwzx/2011xqxxw/2011...</td>\n",
       "      <td></td>\n",
       "      <td>2022年气候变化绿皮书发布 聚焦落实  双碳  目标的政策和实践 - 中国气象局政府门户网站</td>\n",
       "      <td>20221221T153000Z</td>\n",
       "      <td></td>\n",
       "      <td>cma.gov.cn</td>\n",
       "      <td>Chinese</td>\n",
       "      <td>China</td>\n",
       "    </tr>\n",
       "    <tr>\n",
       "      <th>3</th>\n",
       "      <td>https://markets.buffalonews.com/buffnews/artic...</td>\n",
       "      <td></td>\n",
       "      <td>Stock Market</td>\n",
       "      <td>20221223T210000Z</td>\n",
       "      <td></td>\n",
       "      <td>markets.buffalonews.com</td>\n",
       "      <td>English</td>\n",
       "      <td>United States</td>\n",
       "    </tr>\n",
       "    <tr>\n",
       "      <th>4</th>\n",
       "      <td>https://www.huffingtonpost.es/entry/nadie-pens...</td>\n",
       "      <td>https://www.huffingtonpost.es/amp/entry/nadie-...</td>\n",
       "      <td>Nadie pensó que este inocente tuit de Alejandr...</td>\n",
       "      <td>20230105T201500Z</td>\n",
       "      <td>https://img.huffingtonpost.com/asset/63b7215e1...</td>\n",
       "      <td>huffingtonpost.es</td>\n",
       "      <td>Spanish</td>\n",
       "      <td>Spain</td>\n",
       "    </tr>\n",
       "  </tbody>\n",
       "</table>\n",
       "</div>"
      ],
      "text/plain": [
       "                                                 url  \\\n",
       "0    https://allafrica.com/stories/202301050112.html   \n",
       "1  https://www.kompas.com/tren/read/2022/12/24/10...   \n",
       "2  https://www.cma.gov.cn/2011xwzx/2011xqxxw/2011...   \n",
       "3  https://markets.buffalonews.com/buffnews/artic...   \n",
       "4  https://www.huffingtonpost.es/entry/nadie-pens...   \n",
       "\n",
       "                                          url_mobile  \\\n",
       "0                                                      \n",
       "1  https://amp.kompas.com/tren/read/2022/12/24/10...   \n",
       "2                                                      \n",
       "3                                                      \n",
       "4  https://www.huffingtonpost.es/amp/entry/nadie-...   \n",
       "\n",
       "                                               title          seendate  \\\n",
       "0  Nigeria : Environmentalist Seeks Adoption of R...  20230105T101500Z   \n",
       "1  Solusi terhadap Kegagalan Iptek Tentang Peruba...  20221224T034500Z   \n",
       "2    2022年气候变化绿皮书发布 聚焦落实  双碳  目标的政策和实践 - 中国气象局政府门户网站  20221221T153000Z   \n",
       "3                                       Stock Market  20221223T210000Z   \n",
       "4  Nadie pensó que este inocente tuit de Alejandr...  20230105T201500Z   \n",
       "\n",
       "                                         socialimage                   domain  \\\n",
       "0                                                               allafrica.com   \n",
       "1  https://asset.kompas.com/crops/VjPBa0yy7Cq-sXn...               kompas.com   \n",
       "2                                                                  cma.gov.cn   \n",
       "3                                                     markets.buffalonews.com   \n",
       "4  https://img.huffingtonpost.com/asset/63b7215e1...        huffingtonpost.es   \n",
       "\n",
       "     language  sourcecountry  \n",
       "0     English        Nigeria  \n",
       "1  Indonesian      Indonesia  \n",
       "2     Chinese          China  \n",
       "3     English  United States  \n",
       "4     Spanish          Spain  "
      ]
     },
     "execution_count": 70,
     "metadata": {},
     "output_type": "execute_result"
    }
   ],
   "source": [
    "articles.head()"
   ]
  },
  {
   "cell_type": "code",
   "execution_count": 71,
   "id": "918a0d60",
   "metadata": {},
   "outputs": [
    {
     "data": {
      "text/plain": [
       "<AxesSubplot:xlabel='datetime'>"
      ]
     },
     "execution_count": 71,
     "metadata": {},
     "output_type": "execute_result"
    },
    {
     "data": {
      "image/png": "[encoded data removed]",
      "text/plain": [
       "<Figure size 432x288 with 1 Axes>"
      ]
     },
     "metadata": {
      "needs_background": "light"
     },
     "output_type": "display_data"
    }
   ],
   "source": [
    "timeline.plot(x='datetime',y='Volume Intensity')"
   ]
  },
  {
   "cell_type": "code",
   "execution_count": 75,
   "id": "7a5e9f87",
   "metadata": {},
   "outputs": [
    {
     "name": "stdout",
     "output_type": "stream",
     "text": [
      "Nigeria: Environmentalist Seeks Adoption of Renewable Energy\n",
      "Solusi terhadap Kegagalan Iptek Tentang Perubahan Iklim\n",
      "2022年气候变化绿皮书发布 聚焦落实“双碳”目标的政策和实践-中国气象局政府门户网站\n",
      "failed:https://markets.buffalonews.com/buffnews/article/sbwire-2022-12-23-climate-change-consulting-market-seeking-excellent-growth-coastal-risk-consulting-mckinsey-and-company-pricewaterhousecoopers\n",
      "Nadie pensó que este inocente tuit de Alejandro Sanz iba a recibir la misma respuesta tantas veces\n",
      "failed:https://www.sott.net/article/475485-Intelligence-and-attitudes-to-climate-change\n",
      "Mauritius: Ad584 - Climate Change Making Life Worse in Mauritius - Citizens Want Collective Action to Combat It\n",
      "专注解决气候变化 聂纳兹米：尽力提供防洪援助\n",
      "Climate impacts are increasing; textbooks aren't keeping pace\n",
      "Transilience: A New Way to Think About Climate Change\n",
      "[HOAKS] WEF Menyerukan Pembantaian Kucing dan Anjing untuk Lawan Perubahan Iklim\n",
      "Inilah 7 Faktor yang Menyebabkan Terjadinya Perubahan Iklim\n",
      "IAPI: Akuntan Publik Dituntut Memiliki Peran dalam Memitigasi Perubahan Iklim\n",
      "أعمال تجميل ومساحات خضراء ضمن استعدادات شرم الشيخ لاستضافة مؤتمر تغير المناخ\n",
      "İklim değişikliği milyonlarca insanı aç bırakabilir\n",
      "Fact check: False claim the term 'global warming' was rebranded to 'climate change'\n",
      "وزير الخارجية يستقبل السكرتير التنفيذي لاتفاقية الأمم المتحدة الإطارية لتغير المناخ\n",
      "Çevre, Şehircilik ve İklim Değişikliği Bakanlığı personel alımı sonuçları açıklandı\n",
      "美国教材气候变化章节不断“缩水”\n",
      "毛宁：中国为全球应对气候变化注入强劲动力\n"
     ]
    }
   ],
   "source": [
    "for u in articles.head(20)['url']:\n",
    "    try:\n",
    "        article = newspaper.Article(url=u, language='en')\n",
    "        article.download()\n",
    "        article.parse()\n",
    "        print(article.title)\n",
    "    except:\n",
    "        print('failed:{}'.format(u))"
   ]
  },
  {
   "cell_type": "markdown",
   "id": "44525232",
   "metadata": {},
   "source": [
    "- #### A more complete package :\n",
    "- https://github.com/linwoodc3/gdeltPyR\n",
    "- https://towardsdatascience.com/making-sense-of-the-news-part-1-introduction-f171d1da65a8\n",
    "- https://nbviewer.org/github/JamesPHoughton/Published_Blog_Scripts/blob/master/GDELT%20Wrangler%20-%20Clean.ipynb"
   ]
  },
  {
   "cell_type": "code",
   "execution_count": 77,
   "id": "317b86b2",
   "metadata": {},
   "outputs": [],
   "source": [
    "import gdelt"
   ]
  },
  {
   "cell_type": "code",
   "execution_count": 78,
   "id": "dbf5e66c",
   "metadata": {},
   "outputs": [
    {
     "name": "stdout",
     "output_type": "stream",
     "text": [
      "1579837\n",
      "105272\n"
     ]
    }
   ],
   "source": [
    "# Version 2 queries\n",
    "gd2 = gdelt.gdelt(version=2)\n",
    "\n",
    "# Single 15 minute interval pull, output to json format with mentions table\n",
    "#results = gd2.Search('2022 Nov 1',table='mentions',output='json')\n",
    "#print(len(results))\n",
    "\n",
    "# Full day pull, output to pandas dataframe, events table\n",
    "results = gd2.Search(['2022 11 01'],table='events',coverage=True)\n",
    "print(len(results))"
   ]
  },
  {
   "cell_type": "code",
   "execution_count": 82,
   "id": "62cbaad2",
   "metadata": {},
   "outputs": [
    {
     "data": {
      "text/plain": [
       "Index(['GLOBALEVENTID', 'SQLDATE', 'MonthYear', 'Year', 'FractionDate',\n",
       "       'Actor1Code', 'Actor1Name', 'Actor1CountryCode', 'Actor1KnownGroupCode',\n",
       "       'Actor1EthnicCode', 'Actor1Religion1Code', 'Actor1Religion2Code',\n",
       "       'Actor1Type1Code', 'Actor1Type2Code', 'Actor1Type3Code', 'Actor2Code',\n",
       "       'Actor2Name', 'Actor2CountryCode', 'Actor2KnownGroupCode',\n",
       "       'Actor2EthnicCode', 'Actor2Religion1Code', 'Actor2Religion2Code',\n",
       "       'Actor2Type1Code', 'Actor2Type2Code', 'Actor2Type3Code', 'IsRootEvent',\n",
       "       'EventCode', 'CAMEOCodeDescription', 'EventBaseCode', 'EventRootCode',\n",
       "       'QuadClass', 'GoldsteinScale', 'NumMentions', 'NumSources',\n",
       "       'NumArticles', 'AvgTone', 'Actor1Geo_Type', 'Actor1Geo_FullName',\n",
       "       'Actor1Geo_CountryCode', 'Actor1Geo_ADM1Code', 'Actor1Geo_ADM2Code',\n",
       "       'Actor1Geo_Lat', 'Actor1Geo_Long', 'Actor1Geo_FeatureID',\n",
       "       'Actor2Geo_Type', 'Actor2Geo_FullName', 'Actor2Geo_CountryCode',\n",
       "       'Actor2Geo_ADM1Code', 'Actor2Geo_ADM2Code', 'Actor2Geo_Lat',\n",
       "       'Actor2Geo_Long', 'Actor2Geo_FeatureID', 'ActionGeo_Type',\n",
       "       'ActionGeo_FullName', 'ActionGeo_CountryCode', 'ActionGeo_ADM1Code',\n",
       "       'ActionGeo_ADM2Code', 'ActionGeo_Lat', 'ActionGeo_Long',\n",
       "       'ActionGeo_FeatureID', 'DATEADDED', 'SOURCEURL'],\n",
       "      dtype='object')"
      ]
     },
     "execution_count": 82,
     "metadata": {},
     "output_type": "execute_result"
    }
   ],
   "source": [
    "results.columns"
   ]
  },
  {
   "cell_type": "code",
   "execution_count": 81,
   "id": "7de7992a",
   "metadata": {},
   "outputs": [
    {
     "data": {
      "text/html": [
       "<div>\n",
       "<style scoped>\n",
       "    .dataframe tbody tr th:only-of-type {\n",
       "        vertical-align: middle;\n",
       "    }\n",
       "\n",
       "    .dataframe tbody tr th {\n",
       "        vertical-align: top;\n",
       "    }\n",
       "\n",
       "    .dataframe thead th {\n",
       "        text-align: right;\n",
       "    }\n",
       "</style>\n",
       "<table border=\"1\" class=\"dataframe\">\n",
       "  <thead>\n",
       "    <tr style=\"text-align: right;\">\n",
       "      <th></th>\n",
       "      <th>GLOBALEVENTID</th>\n",
       "      <th>SQLDATE</th>\n",
       "      <th>MonthYear</th>\n",
       "      <th>Year</th>\n",
       "      <th>FractionDate</th>\n",
       "      <th>Actor1Code</th>\n",
       "      <th>Actor1Name</th>\n",
       "      <th>Actor1CountryCode</th>\n",
       "      <th>Actor1KnownGroupCode</th>\n",
       "      <th>Actor1EthnicCode</th>\n",
       "      <th>...</th>\n",
       "      <th>ActionGeo_Type</th>\n",
       "      <th>ActionGeo_FullName</th>\n",
       "      <th>ActionGeo_CountryCode</th>\n",
       "      <th>ActionGeo_ADM1Code</th>\n",
       "      <th>ActionGeo_ADM2Code</th>\n",
       "      <th>ActionGeo_Lat</th>\n",
       "      <th>ActionGeo_Long</th>\n",
       "      <th>ActionGeo_FeatureID</th>\n",
       "      <th>DATEADDED</th>\n",
       "      <th>SOURCEURL</th>\n",
       "    </tr>\n",
       "  </thead>\n",
       "  <tbody>\n",
       "    <tr>\n",
       "      <th>0</th>\n",
       "      <td>1070057957</td>\n",
       "      <td>20211101</td>\n",
       "      <td>202111</td>\n",
       "      <td>2021</td>\n",
       "      <td>2021.8247</td>\n",
       "      <td>BHR</td>\n",
       "      <td>BAHRAIN</td>\n",
       "      <td>BHR</td>\n",
       "      <td>NaN</td>\n",
       "      <td>NaN</td>\n",
       "      <td>...</td>\n",
       "      <td>1</td>\n",
       "      <td>Bahrain</td>\n",
       "      <td>BA</td>\n",
       "      <td>BA</td>\n",
       "      <td>NaN</td>\n",
       "      <td>26.0</td>\n",
       "      <td>50.5</td>\n",
       "      <td>BA</td>\n",
       "      <td>20221101010000</td>\n",
       "      <td>http://www.ttnworldwide.com/Article/340259/-Ai...</td>\n",
       "    </tr>\n",
       "    <tr>\n",
       "      <th>1</th>\n",
       "      <td>1070057958</td>\n",
       "      <td>20211101</td>\n",
       "      <td>202111</td>\n",
       "      <td>2021</td>\n",
       "      <td>2021.8247</td>\n",
       "      <td>CHN</td>\n",
       "      <td>CHINESE</td>\n",
       "      <td>CHN</td>\n",
       "      <td>NaN</td>\n",
       "      <td>NaN</td>\n",
       "      <td>...</td>\n",
       "      <td>1</td>\n",
       "      <td>China</td>\n",
       "      <td>CH</td>\n",
       "      <td>CH</td>\n",
       "      <td>NaN</td>\n",
       "      <td>35.0</td>\n",
       "      <td>105.0</td>\n",
       "      <td>CH</td>\n",
       "      <td>20221101010000</td>\n",
       "      <td>https://www.fool.com/investing/2022/10/31/why-...</td>\n",
       "    </tr>\n",
       "    <tr>\n",
       "      <th>2</th>\n",
       "      <td>1070057959</td>\n",
       "      <td>20211101</td>\n",
       "      <td>202111</td>\n",
       "      <td>2021</td>\n",
       "      <td>2021.8247</td>\n",
       "      <td>CHNGOV</td>\n",
       "      <td>CHINESE</td>\n",
       "      <td>CHN</td>\n",
       "      <td>NaN</td>\n",
       "      <td>NaN</td>\n",
       "      <td>...</td>\n",
       "      <td>1</td>\n",
       "      <td>China</td>\n",
       "      <td>CH</td>\n",
       "      <td>CH</td>\n",
       "      <td>NaN</td>\n",
       "      <td>35.0</td>\n",
       "      <td>105.0</td>\n",
       "      <td>CH</td>\n",
       "      <td>20221101010000</td>\n",
       "      <td>https://www.fool.com/investing/2022/10/31/why-...</td>\n",
       "    </tr>\n",
       "    <tr>\n",
       "      <th>3</th>\n",
       "      <td>1070057960</td>\n",
       "      <td>20211101</td>\n",
       "      <td>202111</td>\n",
       "      <td>2021</td>\n",
       "      <td>2021.8247</td>\n",
       "      <td>CVL</td>\n",
       "      <td>TOURIST</td>\n",
       "      <td>NaN</td>\n",
       "      <td>NaN</td>\n",
       "      <td>NaN</td>\n",
       "      <td>...</td>\n",
       "      <td>1</td>\n",
       "      <td>Bahrain</td>\n",
       "      <td>BA</td>\n",
       "      <td>BA</td>\n",
       "      <td>NaN</td>\n",
       "      <td>26.0</td>\n",
       "      <td>50.5</td>\n",
       "      <td>BA</td>\n",
       "      <td>20221101010000</td>\n",
       "      <td>http://www.ttnworldwide.com/Article/340259/-Ai...</td>\n",
       "    </tr>\n",
       "    <tr>\n",
       "      <th>4</th>\n",
       "      <td>1070057961</td>\n",
       "      <td>20211101</td>\n",
       "      <td>202111</td>\n",
       "      <td>2021</td>\n",
       "      <td>2021.8247</td>\n",
       "      <td>GBR</td>\n",
       "      <td>UNITED KINGDOM</td>\n",
       "      <td>GBR</td>\n",
       "      <td>NaN</td>\n",
       "      <td>NaN</td>\n",
       "      <td>...</td>\n",
       "      <td>1</td>\n",
       "      <td>Ireland</td>\n",
       "      <td>EI</td>\n",
       "      <td>EI</td>\n",
       "      <td>NaN</td>\n",
       "      <td>53.0</td>\n",
       "      <td>-8.0</td>\n",
       "      <td>EI</td>\n",
       "      <td>20221101010000</td>\n",
       "      <td>http://www.ttnworldwide.com/Article/340218/Bac...</td>\n",
       "    </tr>\n",
       "  </tbody>\n",
       "</table>\n",
       "<p>5 rows × 62 columns</p>\n",
       "</div>"
      ],
      "text/plain": [
       "   GLOBALEVENTID   SQLDATE  MonthYear  Year  FractionDate Actor1Code  \\\n",
       "0     1070057957  20211101     202111  2021     2021.8247        BHR   \n",
       "1     1070057958  20211101     202111  2021     2021.8247        CHN   \n",
       "2     1070057959  20211101     202111  2021     2021.8247     CHNGOV   \n",
       "3     1070057960  20211101     202111  2021     2021.8247        CVL   \n",
       "4     1070057961  20211101     202111  2021     2021.8247        GBR   \n",
       "\n",
       "       Actor1Name Actor1CountryCode Actor1KnownGroupCode Actor1EthnicCode  \\\n",
       "0         BAHRAIN               BHR                  NaN              NaN   \n",
       "1         CHINESE               CHN                  NaN              NaN   \n",
       "2         CHINESE               CHN                  NaN              NaN   \n",
       "3         TOURIST               NaN                  NaN              NaN   \n",
       "4  UNITED KINGDOM               GBR                  NaN              NaN   \n",
       "\n",
       "   ... ActionGeo_Type ActionGeo_FullName ActionGeo_CountryCode  \\\n",
       "0  ...              1            Bahrain                    BA   \n",
       "1  ...              1              China                    CH   \n",
       "2  ...              1              China                    CH   \n",
       "3  ...              1            Bahrain                    BA   \n",
       "4  ...              1            Ireland                    EI   \n",
       "\n",
       "  ActionGeo_ADM1Code ActionGeo_ADM2Code ActionGeo_Lat ActionGeo_Long  \\\n",
       "0                 BA                NaN          26.0           50.5   \n",
       "1                 CH                NaN          35.0          105.0   \n",
       "2                 CH                NaN          35.0          105.0   \n",
       "3                 BA                NaN          26.0           50.5   \n",
       "4                 EI                NaN          53.0           -8.0   \n",
       "\n",
       "  ActionGeo_FeatureID       DATEADDED  \\\n",
       "0                  BA  20221101010000   \n",
       "1                  CH  20221101010000   \n",
       "2                  CH  20221101010000   \n",
       "3                  BA  20221101010000   \n",
       "4                  EI  20221101010000   \n",
       "\n",
       "                                           SOURCEURL  \n",
       "0  http://www.ttnworldwide.com/Article/340259/-Ai...  \n",
       "1  https://www.fool.com/investing/2022/10/31/why-...  \n",
       "2  https://www.fool.com/investing/2022/10/31/why-...  \n",
       "3  http://www.ttnworldwide.com/Article/340259/-Ai...  \n",
       "4  http://www.ttnworldwide.com/Article/340218/Bac...  \n",
       "\n",
       "[5 rows x 62 columns]"
      ]
     },
     "execution_count": 81,
     "metadata": {},
     "output_type": "execute_result"
    }
   ],
   "source": [
    "results.head()"
   ]
  },
  {
   "cell_type": "code",
   "execution_count": null,
   "id": "0647c266",
   "metadata": {},
   "outputs": [],
   "source": []
  }
 ],
 "metadata": {
  "kernelspec": {
   "display_name": "Python [conda env:root] *",
   "language": "python",
   "name": "conda-root-py"
  },
  "language_info": {
   "codemirror_mode": {
    "name": "ipython",
    "version": 3
   },
   "file_extension": ".py",
   "mimetype": "text/x-python",
   "name": "python",
   "nbconvert_exporter": "python",
   "pygments_lexer": "ipython3",
   "version": "3.8.10"
  }
 },
 "nbformat": 4,
 "nbformat_minor": 5
}
