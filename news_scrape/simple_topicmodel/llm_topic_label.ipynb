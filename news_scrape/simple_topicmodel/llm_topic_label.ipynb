{
 "cells": [
  {
   "cell_type": "markdown",
   "metadata": {},
   "source": [
    "### use llm for topic representation"
   ]
  },
  {
   "cell_type": "code",
   "execution_count": 1,
   "metadata": {},
   "outputs": [
    {
     "name": "stdout",
     "output_type": "stream",
     "text": [
      "...currently using old version of openai\n"
     ]
    }
   ],
   "source": [
    "import os,sys\n",
    "sys.path.insert(0,'../libs')\n",
    "from utils import load_json\n",
    "import openai\n",
    "from llm_utils import BSAgent_legacy\n",
    "import numpy as np\n",
    "from bertopic import BERTopic\n",
    "import pandas as pd\n",
    "import re,json,copy\n",
    "from tqdm import tqdm\n",
    "## load API Key\n",
    "key = load_json('/home/chuang/Dev/Keys/openai_key.json') \n",
    "os.environ['OPENAI_API_KEY'] = key['ChatGPT']['API_KEY']\n",
    "openai.api_key  = os.getenv('OPENAI_API_KEY')"
   ]
  },
  {
   "cell_type": "markdown",
   "metadata": {},
   "source": [
    "- load legacy llm agent class, as fund server having problem with the new version"
   ]
  },
  {
   "cell_type": "code",
   "execution_count": 2,
   "metadata": {},
   "outputs": [],
   "source": [
    "llm_agent  = BSAgent_legacy(model=\"gpt-3.5-turbo-1106\", \n",
    "                    temperature=0)"
   ]
  },
  {
   "cell_type": "code",
   "execution_count": 3,
   "metadata": {},
   "outputs": [
    {
     "name": "stdout",
     "output_type": "stream",
     "text": [
      "I am a language model AI created by OpenAI, and I don't have a personal name. You can just call me \"Assistant.\" How can I assist you today?\n"
     ]
    }
   ],
   "source": [
    "## just run one test, make sure the api works \n",
    "pt = {'System':'You are a helpful assistant.',\n",
    "      'Human':'What is your name?'}\n",
    "res = llm_agent.get_response_content(prompt_template=pt)\n",
    "print(res)  \n"
   ]
  },
  {
   "cell_type": "code",
   "execution_count": 4,
   "metadata": {},
   "outputs": [],
   "source": [
    "res_folder = '/data/chuang/news_scrape/data/news_search_res'\n",
    "emb_path  = os.path.join(res_folder,'sentence_embeddings.npy')\n",
    "docs_path = os.path.join(res_folder,'docs.npy')\n",
    "topic_model_out_path = os.path.join(res_folder,'topic_model')"
   ]
  },
  {
   "cell_type": "code",
   "execution_count": 5,
   "metadata": {},
   "outputs": [],
   "source": [
    "topic_model = BERTopic.load(topic_model_out_path)\n",
    "topic_model.calculate_probabilities = False ## do not calculate probs for all topics \n",
    "## load training doc and embeddings \n",
    "embeddings = np.load(emb_path)\n",
    "docs = np.load(docs_path)"
   ]
  },
  {
   "cell_type": "code",
   "execution_count": 6,
   "metadata": {},
   "outputs": [
    {
     "data": {
      "application/vnd.plotly.v1+json": {
       "config": {
        "plotlyServerURL": "https://plot.ly"
       },
       "data": [
        {
         "marker": {
          "color": "#D55E00"
         },
         "orientation": "h",
         "type": "bar",
         "x": [
          0.3597274422645569,
          0.3735876679420471,
          0.3787553906440735,
          0.386532723903656,
          0.4369775950908661
         ],
         "xaxis": "x",
         "y": [
          "championships  ",
          "championship  ",
          "athletics  ",
          "tennis  ",
          "tournament  "
         ],
         "yaxis": "y"
        },
        {
         "marker": {
          "color": "#0072B2"
         },
         "orientation": "h",
         "type": "bar",
         "x": [
          0.4359268248081207,
          0.4487130343914032,
          0.45053356885910034,
          0.4822351634502411,
          0.49329128861427307
         ],
         "xaxis": "x2",
         "y": [
          "crime  ",
          "offences  ",
          "magistrate  ",
          "prosecution  ",
          "accused  "
         ],
         "yaxis": "y2"
        },
        {
         "marker": {
          "color": "#CC79A7"
         },
         "orientation": "h",
         "type": "bar",
         "x": [
          0.3828541338443756,
          0.38770824670791626,
          0.3971457779407501,
          0.4360324442386627,
          0.5607784390449524
         ],
         "xaxis": "x3",
         "y": [
          "teacher  ",
          "classroom  ",
          "students  ",
          "teachers  ",
          "teachers union  "
         ],
         "yaxis": "y3"
        },
        {
         "marker": {
          "color": "#E69F00"
         },
         "orientation": "h",
         "type": "bar",
         "x": [
          0.4230310022830963,
          0.4925198256969452,
          0.5050950050354004,
          0.5879223346710205,
          0.6270817518234253
         ],
         "xaxis": "x4",
         "y": [
          "labour party  ",
          "new democratic  ",
          "democratic party  ",
          "ndp  ",
          "party ndp  "
         ],
         "yaxis": "y4"
        },
        {
         "marker": {
          "color": "#56B4E9"
         },
         "orientation": "h",
         "type": "bar",
         "x": [
          0.3502638041973114,
          0.354646772146225,
          0.3596857786178589,
          0.36258000135421753,
          0.5006150007247925
         ],
         "xaxis": "x5",
         "y": [
          "january 2021  ",
          "june 2019  ",
          "october 2020  ",
          "june 2018  ",
          "archives  "
         ],
         "yaxis": "y5"
        },
        {
         "marker": {
          "color": "#009E73"
         },
         "orientation": "h",
         "type": "bar",
         "x": [
          0.39660128951072693,
          0.42083749175071716,
          0.489021360874176,
          0.5226337909698486,
          0.566872775554657
         ],
         "xaxis": "x6",
         "y": [
          "venezuelan  ",
          "caribbean  ",
          "haiti  ",
          "cuban  ",
          "cuba  "
         ],
         "yaxis": "y6"
        },
        {
         "marker": {
          "color": "#F0E442"
         },
         "orientation": "h",
         "type": "bar",
         "x": [
          0.19249725341796875,
          0.221011221408844,
          0.22260883450508118,
          0.24914324283599854,
          0.2651623785495758
         ],
         "xaxis": "x7",
         "y": [
          "woman  ",
          "husband  ",
          "married  ",
          "marriage  ",
          "wife  "
         ],
         "yaxis": "y7"
        },
        {
         "marker": {
          "color": "#D55E00"
         },
         "orientation": "h",
         "type": "bar",
         "x": [
          0.47131848335266113,
          0.4815807044506073,
          0.4967133104801178,
          0.49881765246391296,
          0.5546615123748779
         ],
         "xaxis": "x8",
         "y": [
          "vaccine  ",
          "vaccination  ",
          "19 vaccine  ",
          "covid  ",
          "covid 19  "
         ],
         "yaxis": "y8"
        }
       ],
       "layout": {
        "annotations": [
         {
          "font": {
           "size": 16
          },
          "showarrow": false,
          "text": "Topic 0",
          "x": 0.0875,
          "xanchor": "center",
          "xref": "paper",
          "y": 1,
          "yanchor": "bottom",
          "yref": "paper"
         },
         {
          "font": {
           "size": 16
          },
          "showarrow": false,
          "text": "Topic 1",
          "x": 0.36250000000000004,
          "xanchor": "center",
          "xref": "paper",
          "y": 1,
          "yanchor": "bottom",
          "yref": "paper"
         },
         {
          "font": {
           "size": 16
          },
          "showarrow": false,
          "text": "Topic 2",
          "x": 0.6375000000000001,
          "xanchor": "center",
          "xref": "paper",
          "y": 1,
          "yanchor": "bottom",
          "yref": "paper"
         },
         {
          "font": {
           "size": 16
          },
          "showarrow": false,
          "text": "Topic 3",
          "x": 0.9125,
          "xanchor": "center",
          "xref": "paper",
          "y": 1,
          "yanchor": "bottom",
          "yref": "paper"
         },
         {
          "font": {
           "size": 16
          },
          "showarrow": false,
          "text": "Topic 4",
          "x": 0.0875,
          "xanchor": "center",
          "xref": "paper",
          "y": 0.4,
          "yanchor": "bottom",
          "yref": "paper"
         },
         {
          "font": {
           "size": 16
          },
          "showarrow": false,
          "text": "Topic 5",
          "x": 0.36250000000000004,
          "xanchor": "center",
          "xref": "paper",
          "y": 0.4,
          "yanchor": "bottom",
          "yref": "paper"
         },
         {
          "font": {
           "size": 16
          },
          "showarrow": false,
          "text": "Topic 6",
          "x": 0.6375000000000001,
          "xanchor": "center",
          "xref": "paper",
          "y": 0.4,
          "yanchor": "bottom",
          "yref": "paper"
         },
         {
          "font": {
           "size": 16
          },
          "showarrow": false,
          "text": "Topic 7",
          "x": 0.9125,
          "xanchor": "center",
          "xref": "paper",
          "y": 0.4,
          "yanchor": "bottom",
          "yref": "paper"
         }
        ],
        "height": 500,
        "hoverlabel": {
         "bgcolor": "white",
         "font": {
          "family": "Rockwell",
          "size": 16
         }
        },
        "showlegend": false,
        "template": {
         "data": {
          "bar": [
           {
            "error_x": {
             "color": "#2a3f5f"
            },
            "error_y": {
             "color": "#2a3f5f"
            },
            "marker": {
             "line": {
              "color": "white",
              "width": 0.5
             },
             "pattern": {
              "fillmode": "overlay",
              "size": 10,
              "solidity": 0.2
             }
            },
            "type": "bar"
           }
          ],
          "barpolar": [
           {
            "marker": {
             "line": {
              "color": "white",
              "width": 0.5
             },
             "pattern": {
              "fillmode": "overlay",
              "size": 10,
              "solidity": 0.2
             }
            },
            "type": "barpolar"
           }
          ],
          "carpet": [
           {
            "aaxis": {
             "endlinecolor": "#2a3f5f",
             "gridcolor": "#C8D4E3",
             "linecolor": "#C8D4E3",
             "minorgridcolor": "#C8D4E3",
             "startlinecolor": "#2a3f5f"
            },
            "baxis": {
             "endlinecolor": "#2a3f5f",
             "gridcolor": "#C8D4E3",
             "linecolor": "#C8D4E3",
             "minorgridcolor": "#C8D4E3",
             "startlinecolor": "#2a3f5f"
            },
            "type": "carpet"
           }
          ],
          "choropleth": [
           {
            "colorbar": {
             "outlinewidth": 0,
             "ticks": ""
            },
            "type": "choropleth"
           }
          ],
          "contour": [
           {
            "colorbar": {
             "outlinewidth": 0,
             "ticks": ""
            },
            "colorscale": [
             [
              0,
              "#0d0887"
             ],
             [
              0.1111111111111111,
              "#46039f"
             ],
             [
              0.2222222222222222,
              "#7201a8"
             ],
             [
              0.3333333333333333,
              "#9c179e"
             ],
             [
              0.4444444444444444,
              "#bd3786"
             ],
             [
              0.5555555555555556,
              "#d8576b"
             ],
             [
              0.6666666666666666,
              "#ed7953"
             ],
             [
              0.7777777777777778,
              "#fb9f3a"
             ],
             [
              0.8888888888888888,
              "#fdca26"
             ],
             [
              1,
              "#f0f921"
             ]
            ],
            "type": "contour"
           }
          ],
          "contourcarpet": [
           {
            "colorbar": {
             "outlinewidth": 0,
             "ticks": ""
            },
            "type": "contourcarpet"
           }
          ],
          "heatmap": [
           {
            "colorbar": {
             "outlinewidth": 0,
             "ticks": ""
            },
            "colorscale": [
             [
              0,
              "#0d0887"
             ],
             [
              0.1111111111111111,
              "#46039f"
             ],
             [
              0.2222222222222222,
              "#7201a8"
             ],
             [
              0.3333333333333333,
              "#9c179e"
             ],
             [
              0.4444444444444444,
              "#bd3786"
             ],
             [
              0.5555555555555556,
              "#d8576b"
             ],
             [
              0.6666666666666666,
              "#ed7953"
             ],
             [
              0.7777777777777778,
              "#fb9f3a"
             ],
             [
              0.8888888888888888,
              "#fdca26"
             ],
             [
              1,
              "#f0f921"
             ]
            ],
            "type": "heatmap"
           }
          ],
          "heatmapgl": [
           {
            "colorbar": {
             "outlinewidth": 0,
             "ticks": ""
            },
            "colorscale": [
             [
              0,
              "#0d0887"
             ],
             [
              0.1111111111111111,
              "#46039f"
             ],
             [
              0.2222222222222222,
              "#7201a8"
             ],
             [
              0.3333333333333333,
              "#9c179e"
             ],
             [
              0.4444444444444444,
              "#bd3786"
             ],
             [
              0.5555555555555556,
              "#d8576b"
             ],
             [
              0.6666666666666666,
              "#ed7953"
             ],
             [
              0.7777777777777778,
              "#fb9f3a"
             ],
             [
              0.8888888888888888,
              "#fdca26"
             ],
             [
              1,
              "#f0f921"
             ]
            ],
            "type": "heatmapgl"
           }
          ],
          "histogram": [
           {
            "marker": {
             "pattern": {
              "fillmode": "overlay",
              "size": 10,
              "solidity": 0.2
             }
            },
            "type": "histogram"
           }
          ],
          "histogram2d": [
           {
            "colorbar": {
             "outlinewidth": 0,
             "ticks": ""
            },
            "colorscale": [
             [
              0,
              "#0d0887"
             ],
             [
              0.1111111111111111,
              "#46039f"
             ],
             [
              0.2222222222222222,
              "#7201a8"
             ],
             [
              0.3333333333333333,
              "#9c179e"
             ],
             [
              0.4444444444444444,
              "#bd3786"
             ],
             [
              0.5555555555555556,
              "#d8576b"
             ],
             [
              0.6666666666666666,
              "#ed7953"
             ],
             [
              0.7777777777777778,
              "#fb9f3a"
             ],
             [
              0.8888888888888888,
              "#fdca26"
             ],
             [
              1,
              "#f0f921"
             ]
            ],
            "type": "histogram2d"
           }
          ],
          "histogram2dcontour": [
           {
            "colorbar": {
             "outlinewidth": 0,
             "ticks": ""
            },
            "colorscale": [
             [
              0,
              "#0d0887"
             ],
             [
              0.1111111111111111,
              "#46039f"
             ],
             [
              0.2222222222222222,
              "#7201a8"
             ],
             [
              0.3333333333333333,
              "#9c179e"
             ],
             [
              0.4444444444444444,
              "#bd3786"
             ],
             [
              0.5555555555555556,
              "#d8576b"
             ],
             [
              0.6666666666666666,
              "#ed7953"
             ],
             [
              0.7777777777777778,
              "#fb9f3a"
             ],
             [
              0.8888888888888888,
              "#fdca26"
             ],
             [
              1,
              "#f0f921"
             ]
            ],
            "type": "histogram2dcontour"
           }
          ],
          "mesh3d": [
           {
            "colorbar": {
             "outlinewidth": 0,
             "ticks": ""
            },
            "type": "mesh3d"
           }
          ],
          "parcoords": [
           {
            "line": {
             "colorbar": {
              "outlinewidth": 0,
              "ticks": ""
             }
            },
            "type": "parcoords"
           }
          ],
          "pie": [
           {
            "automargin": true,
            "type": "pie"
           }
          ],
          "scatter": [
           {
            "fillpattern": {
             "fillmode": "overlay",
             "size": 10,
             "solidity": 0.2
            },
            "type": "scatter"
           }
          ],
          "scatter3d": [
           {
            "line": {
             "colorbar": {
              "outlinewidth": 0,
              "ticks": ""
             }
            },
            "marker": {
             "colorbar": {
              "outlinewidth": 0,
              "ticks": ""
             }
            },
            "type": "scatter3d"
           }
          ],
          "scattercarpet": [
           {
            "marker": {
             "colorbar": {
              "outlinewidth": 0,
              "ticks": ""
             }
            },
            "type": "scattercarpet"
           }
          ],
          "scattergeo": [
           {
            "marker": {
             "colorbar": {
              "outlinewidth": 0,
              "ticks": ""
             }
            },
            "type": "scattergeo"
           }
          ],
          "scattergl": [
           {
            "marker": {
             "colorbar": {
              "outlinewidth": 0,
              "ticks": ""
             }
            },
            "type": "scattergl"
           }
          ],
          "scattermapbox": [
           {
            "marker": {
             "colorbar": {
              "outlinewidth": 0,
              "ticks": ""
             }
            },
            "type": "scattermapbox"
           }
          ],
          "scatterpolar": [
           {
            "marker": {
             "colorbar": {
              "outlinewidth": 0,
              "ticks": ""
             }
            },
            "type": "scatterpolar"
           }
          ],
          "scatterpolargl": [
           {
            "marker": {
             "colorbar": {
              "outlinewidth": 0,
              "ticks": ""
             }
            },
            "type": "scatterpolargl"
           }
          ],
          "scatterternary": [
           {
            "marker": {
             "colorbar": {
              "outlinewidth": 0,
              "ticks": ""
             }
            },
            "type": "scatterternary"
           }
          ],
          "surface": [
           {
            "colorbar": {
             "outlinewidth": 0,
             "ticks": ""
            },
            "colorscale": [
             [
              0,
              "#0d0887"
             ],
             [
              0.1111111111111111,
              "#46039f"
             ],
             [
              0.2222222222222222,
              "#7201a8"
             ],
             [
              0.3333333333333333,
              "#9c179e"
             ],
             [
              0.4444444444444444,
              "#bd3786"
             ],
             [
              0.5555555555555556,
              "#d8576b"
             ],
             [
              0.6666666666666666,
              "#ed7953"
             ],
             [
              0.7777777777777778,
              "#fb9f3a"
             ],
             [
              0.8888888888888888,
              "#fdca26"
             ],
             [
              1,
              "#f0f921"
             ]
            ],
            "type": "surface"
           }
          ],
          "table": [
           {
            "cells": {
             "fill": {
              "color": "#EBF0F8"
             },
             "line": {
              "color": "white"
             }
            },
            "header": {
             "fill": {
              "color": "#C8D4E3"
             },
             "line": {
              "color": "white"
             }
            },
            "type": "table"
           }
          ]
         },
         "layout": {
          "annotationdefaults": {
           "arrowcolor": "#2a3f5f",
           "arrowhead": 0,
           "arrowwidth": 1
          },
          "autotypenumbers": "strict",
          "coloraxis": {
           "colorbar": {
            "outlinewidth": 0,
            "ticks": ""
           }
          },
          "colorscale": {
           "diverging": [
            [
             0,
             "#8e0152"
            ],
            [
             0.1,
             "#c51b7d"
            ],
            [
             0.2,
             "#de77ae"
            ],
            [
             0.3,
             "#f1b6da"
            ],
            [
             0.4,
             "#fde0ef"
            ],
            [
             0.5,
             "#f7f7f7"
            ],
            [
             0.6,
             "#e6f5d0"
            ],
            [
             0.7,
             "#b8e186"
            ],
            [
             0.8,
             "#7fbc41"
            ],
            [
             0.9,
             "#4d9221"
            ],
            [
             1,
             "#276419"
            ]
           ],
           "sequential": [
            [
             0,
             "#0d0887"
            ],
            [
             0.1111111111111111,
             "#46039f"
            ],
            [
             0.2222222222222222,
             "#7201a8"
            ],
            [
             0.3333333333333333,
             "#9c179e"
            ],
            [
             0.4444444444444444,
             "#bd3786"
            ],
            [
             0.5555555555555556,
             "#d8576b"
            ],
            [
             0.6666666666666666,
             "#ed7953"
            ],
            [
             0.7777777777777778,
             "#fb9f3a"
            ],
            [
             0.8888888888888888,
             "#fdca26"
            ],
            [
             1,
             "#f0f921"
            ]
           ],
           "sequentialminus": [
            [
             0,
             "#0d0887"
            ],
            [
             0.1111111111111111,
             "#46039f"
            ],
            [
             0.2222222222222222,
             "#7201a8"
            ],
            [
             0.3333333333333333,
             "#9c179e"
            ],
            [
             0.4444444444444444,
             "#bd3786"
            ],
            [
             0.5555555555555556,
             "#d8576b"
            ],
            [
             0.6666666666666666,
             "#ed7953"
            ],
            [
             0.7777777777777778,
             "#fb9f3a"
            ],
            [
             0.8888888888888888,
             "#fdca26"
            ],
            [
             1,
             "#f0f921"
            ]
           ]
          },
          "colorway": [
           "#636efa",
           "#EF553B",
           "#00cc96",
           "#ab63fa",
           "#FFA15A",
           "#19d3f3",
           "#FF6692",
           "#B6E880",
           "#FF97FF",
           "#FECB52"
          ],
          "font": {
           "color": "#2a3f5f"
          },
          "geo": {
           "bgcolor": "white",
           "lakecolor": "white",
           "landcolor": "white",
           "showlakes": true,
           "showland": true,
           "subunitcolor": "#C8D4E3"
          },
          "hoverlabel": {
           "align": "left"
          },
          "hovermode": "closest",
          "mapbox": {
           "style": "light"
          },
          "paper_bgcolor": "white",
          "plot_bgcolor": "white",
          "polar": {
           "angularaxis": {
            "gridcolor": "#EBF0F8",
            "linecolor": "#EBF0F8",
            "ticks": ""
           },
           "bgcolor": "white",
           "radialaxis": {
            "gridcolor": "#EBF0F8",
            "linecolor": "#EBF0F8",
            "ticks": ""
           }
          },
          "scene": {
           "xaxis": {
            "backgroundcolor": "white",
            "gridcolor": "#DFE8F3",
            "gridwidth": 2,
            "linecolor": "#EBF0F8",
            "showbackground": true,
            "ticks": "",
            "zerolinecolor": "#EBF0F8"
           },
           "yaxis": {
            "backgroundcolor": "white",
            "gridcolor": "#DFE8F3",
            "gridwidth": 2,
            "linecolor": "#EBF0F8",
            "showbackground": true,
            "ticks": "",
            "zerolinecolor": "#EBF0F8"
           },
           "zaxis": {
            "backgroundcolor": "white",
            "gridcolor": "#DFE8F3",
            "gridwidth": 2,
            "linecolor": "#EBF0F8",
            "showbackground": true,
            "ticks": "",
            "zerolinecolor": "#EBF0F8"
           }
          },
          "shapedefaults": {
           "line": {
            "color": "#2a3f5f"
           }
          },
          "ternary": {
           "aaxis": {
            "gridcolor": "#DFE8F3",
            "linecolor": "#A2B1C6",
            "ticks": ""
           },
           "baxis": {
            "gridcolor": "#DFE8F3",
            "linecolor": "#A2B1C6",
            "ticks": ""
           },
           "bgcolor": "white",
           "caxis": {
            "gridcolor": "#DFE8F3",
            "linecolor": "#A2B1C6",
            "ticks": ""
           }
          },
          "title": {
           "x": 0.05
          },
          "xaxis": {
           "automargin": true,
           "gridcolor": "#EBF0F8",
           "linecolor": "#EBF0F8",
           "ticks": "",
           "title": {
            "standoff": 15
           },
           "zerolinecolor": "#EBF0F8",
           "zerolinewidth": 2
          },
          "yaxis": {
           "automargin": true,
           "gridcolor": "#EBF0F8",
           "linecolor": "#EBF0F8",
           "ticks": "",
           "title": {
            "standoff": 15
           },
           "zerolinecolor": "#EBF0F8",
           "zerolinewidth": 2
          }
         }
        },
        "title": {
         "font": {
          "color": "Black",
          "size": 22
         },
         "text": "Topic Word Scores",
         "x": 0.5,
         "xanchor": "center",
         "yanchor": "top"
        },
        "width": 1000,
        "xaxis": {
         "anchor": "y",
         "domain": [
          0,
          0.175
         ],
         "showgrid": true
        },
        "xaxis2": {
         "anchor": "y2",
         "domain": [
          0.275,
          0.45
         ],
         "showgrid": true
        },
        "xaxis3": {
         "anchor": "y3",
         "domain": [
          0.55,
          0.7250000000000001
         ],
         "showgrid": true
        },
        "xaxis4": {
         "anchor": "y4",
         "domain": [
          0.825,
          1
         ],
         "showgrid": true
        },
        "xaxis5": {
         "anchor": "y5",
         "domain": [
          0,
          0.175
         ],
         "showgrid": true
        },
        "xaxis6": {
         "anchor": "y6",
         "domain": [
          0.275,
          0.45
         ],
         "showgrid": true
        },
        "xaxis7": {
         "anchor": "y7",
         "domain": [
          0.55,
          0.7250000000000001
         ],
         "showgrid": true
        },
        "xaxis8": {
         "anchor": "y8",
         "domain": [
          0.825,
          1
         ],
         "showgrid": true
        },
        "yaxis": {
         "anchor": "x",
         "domain": [
          0.6000000000000001,
          1
         ],
         "showgrid": true
        },
        "yaxis2": {
         "anchor": "x2",
         "domain": [
          0.6000000000000001,
          1
         ],
         "showgrid": true
        },
        "yaxis3": {
         "anchor": "x3",
         "domain": [
          0.6000000000000001,
          1
         ],
         "showgrid": true
        },
        "yaxis4": {
         "anchor": "x4",
         "domain": [
          0.6000000000000001,
          1
         ],
         "showgrid": true
        },
        "yaxis5": {
         "anchor": "x5",
         "domain": [
          0,
          0.4
         ],
         "showgrid": true
        },
        "yaxis6": {
         "anchor": "x6",
         "domain": [
          0,
          0.4
         ],
         "showgrid": true
        },
        "yaxis7": {
         "anchor": "x7",
         "domain": [
          0,
          0.4
         ],
         "showgrid": true
        },
        "yaxis8": {
         "anchor": "x8",
         "domain": [
          0,
          0.4
         ],
         "showgrid": true
        }
       }
      }
     },
     "metadata": {},
     "output_type": "display_data"
    }
   ],
   "source": [
    "topic_model.visualize_barchart()"
   ]
  },
  {
   "cell_type": "code",
   "execution_count": 7,
   "metadata": {},
   "outputs": [
    {
     "data": {
      "text/html": [
       "<div>\n",
       "<style scoped>\n",
       "    .dataframe tbody tr th:only-of-type {\n",
       "        vertical-align: middle;\n",
       "    }\n",
       "\n",
       "    .dataframe tbody tr th {\n",
       "        vertical-align: top;\n",
       "    }\n",
       "\n",
       "    .dataframe thead th {\n",
       "        text-align: right;\n",
       "    }\n",
       "</style>\n",
       "<table border=\"1\" class=\"dataframe\">\n",
       "  <thead>\n",
       "    <tr style=\"text-align: right;\">\n",
       "      <th></th>\n",
       "      <th>Topic</th>\n",
       "      <th>Count</th>\n",
       "      <th>Name</th>\n",
       "      <th>topic_words</th>\n",
       "    </tr>\n",
       "  </thead>\n",
       "  <tbody>\n",
       "    <tr>\n",
       "      <th>0</th>\n",
       "      <td>-1</td>\n",
       "      <td>727</td>\n",
       "      <td>-1_st vincent_vincentian_vincent grenadines_vi...</td>\n",
       "      <td>st vincent, vincentian, vincent grenadines, vi...</td>\n",
       "    </tr>\n",
       "    <tr>\n",
       "      <th>1</th>\n",
       "      <td>0</td>\n",
       "      <td>336</td>\n",
       "      <td>0_tournament_tennis_athletics_championship</td>\n",
       "      <td>tournament, tennis, athletics, championship, c...</td>\n",
       "    </tr>\n",
       "    <tr>\n",
       "      <th>2</th>\n",
       "      <td>1</td>\n",
       "      <td>304</td>\n",
       "      <td>1_accused_prosecution_magistrate_offences</td>\n",
       "      <td>accused, prosecution, magistrate, offences, cr...</td>\n",
       "    </tr>\n",
       "    <tr>\n",
       "      <th>3</th>\n",
       "      <td>2</td>\n",
       "      <td>237</td>\n",
       "      <td>2_teachers union_teachers_students_classroom</td>\n",
       "      <td>teachers union, teachers, students, classroom,...</td>\n",
       "    </tr>\n",
       "    <tr>\n",
       "      <th>4</th>\n",
       "      <td>3</td>\n",
       "      <td>113</td>\n",
       "      <td>3_party ndp_ndp_democratic party_new democratic</td>\n",
       "      <td>party ndp, ndp, democratic party, new democrat...</td>\n",
       "    </tr>\n",
       "  </tbody>\n",
       "</table>\n",
       "</div>"
      ],
      "text/plain": [
       "   Topic  Count                                               Name  \\\n",
       "0     -1    727  -1_st vincent_vincentian_vincent grenadines_vi...   \n",
       "1      0    336         0_tournament_tennis_athletics_championship   \n",
       "2      1    304          1_accused_prosecution_magistrate_offences   \n",
       "3      2    237       2_teachers union_teachers_students_classroom   \n",
       "4      3    113    3_party ndp_ndp_democratic party_new democratic   \n",
       "\n",
       "                                         topic_words  \n",
       "0  st vincent, vincentian, vincent grenadines, vi...  \n",
       "1  tournament, tennis, athletics, championship, c...  \n",
       "2  accused, prosecution, magistrate, offences, cr...  \n",
       "3  teachers union, teachers, students, classroom,...  \n",
       "4  party ndp, ndp, democratic party, new democrat...  "
      ]
     },
     "execution_count": 7,
     "metadata": {},
     "output_type": "execute_result"
    }
   ],
   "source": [
    "delim = '\\n----------------\\n----------------\\n'\n",
    "\n",
    "topic_df = topic_model.get_topic_info()\n",
    "topic_df['topic_words'] = topic_model.generate_topic_labels(nr_words=10,\n",
    "                                                            topic_prefix=False,\n",
    "                                                            word_length=50,\n",
    "                                                            separator=\", \")\n",
    "rep_doc_dict = topic_model.get_representative_docs()      \n",
    "rep_doc_dict = {k:delim.join([re.sub(r'\\n+', '\\n', text) for text in v]) for k,v in rep_doc_dict.items()} \n",
    "topic_df.head()"
   ]
  },
  {
   "cell_type": "code",
   "execution_count": 8,
   "metadata": {},
   "outputs": [],
   "source": [
    "summary_pt = {'System':\"You're a helpful assistant. Your task is to analyse hotel topics in news articles.\",\n",
    "      'Human':\"\"\"\n",
    "Please summarize the following new article with less then 100 words: \n",
    "----------------\n",
    "----------------\n",
    "\n",
    "{DOCUMENTS}\n",
    "\n",
    "----------------\n",
    "----------------\n",
    "Please write your summery below:\n",
    "\"\"\"}\n",
    "\n",
    "topic_pt = {'System':\"You're a helpful assistant. Your task is to analyse hotel topics in news articles.\",\n",
    "      'Human':\"\"\"\n",
    "I have a topic that contains the following documents delimited with ----------------: \n",
    "----------------\n",
    "----------------\n",
    "\n",
    "{DOCUMENTS}\n",
    "\n",
    "----------------\n",
    "----------------\n",
    "\n",
    "The topic is described by the following keywords: {KEYWORDS}\n",
    "\n",
    "Based on the information above, extract a short topic label, a list of topic words and a short descrption of the topic.\n",
    "Make sure the label has no more than 3 words.\n",
    "Make sure topic words arel less than 10 words.\n",
    "And also makse sure the description is only a short highlevel sumamry.  \n",
    "Please respond in clean json format as follow:\n",
    "topic: <topic label>,\n",
    "topic_words: [<topic workds>],\n",
    "description: <topic description>\n",
    "\n",
    "\"\"\"}\n",
    "#topic_pt['Human'] = topic_pt['Human'].format(DOCUMENTS=rep_doc_dict[1],KEYWORDS=topic_df.iloc[1]['topic_words'])"
   ]
  },
  {
   "cell_type": "code",
   "execution_count": 13,
   "metadata": {},
   "outputs": [
    {
     "name": "stderr",
     "output_type": "stream",
     "text": [
      "  2%|▏         | 1/41 [00:01<01:08,  1.71s/it]"
     ]
    },
    {
     "name": "stdout",
     "output_type": "stream",
     "text": [
      "Community College English Program\n"
     ]
    },
    {
     "name": "stderr",
     "output_type": "stream",
     "text": [
      "  5%|▍         | 2/41 [00:03<00:59,  1.52s/it]"
     ]
    },
    {
     "name": "stdout",
     "output_type": "stream",
     "text": [
      "Vincentian Athletics\n"
     ]
    },
    {
     "name": "stderr",
     "output_type": "stream",
     "text": [
      "  7%|▋         | 3/41 [00:05<01:13,  1.93s/it]"
     ]
    },
    {
     "name": "stdout",
     "output_type": "stream",
     "text": [
      "Mental Health Centre\n"
     ]
    },
    {
     "name": "stderr",
     "output_type": "stream",
     "text": [
      " 10%|▉         | 4/41 [00:07<01:10,  1.90s/it]"
     ]
    },
    {
     "name": "stdout",
     "output_type": "stream",
     "text": [
      "School Reopening Concerns\n"
     ]
    },
    {
     "name": "stderr",
     "output_type": "stream",
     "text": [
      " 12%|█▏        | 5/41 [00:08<01:02,  1.73s/it]"
     ]
    },
    {
     "name": "stdout",
     "output_type": "stream",
     "text": [
      "Opposition Leadership Transition\n"
     ]
    },
    {
     "name": "stderr",
     "output_type": "stream",
     "text": [
      " 15%|█▍        | 6/41 [00:10<01:02,  1.80s/it]"
     ]
    },
    {
     "name": "stdout",
     "output_type": "stream",
     "text": [
      "Political Party Elections\n"
     ]
    },
    {
     "name": "stderr",
     "output_type": "stream",
     "text": [
      " 17%|█▋        | 7/41 [00:12<01:00,  1.79s/it]"
     ]
    },
    {
     "name": "stdout",
     "output_type": "stream",
     "text": [
      "Cuban-US Relations\n"
     ]
    },
    {
     "name": "stderr",
     "output_type": "stream",
     "text": [
      " 20%|█▉        | 8/41 [00:13<00:54,  1.64s/it]"
     ]
    },
    {
     "name": "stdout",
     "output_type": "stream",
     "text": [
      "Caribbean Marijuana Legalization\n"
     ]
    },
    {
     "name": "stderr",
     "output_type": "stream",
     "text": [
      " 22%|██▏       | 9/41 [00:15<00:52,  1.66s/it]"
     ]
    },
    {
     "name": "stdout",
     "output_type": "stream",
     "text": [
      "COVID-19 Vaccine Mandate\n"
     ]
    },
    {
     "name": "stderr",
     "output_type": "stream",
     "text": [
      " 24%|██▍       | 10/41 [00:16<00:46,  1.50s/it]"
     ]
    },
    {
     "name": "stdout",
     "output_type": "stream",
     "text": [
      "Caribbean American Heritage\n"
     ]
    },
    {
     "name": "stderr",
     "output_type": "stream",
     "text": [
      " 27%|██▋       | 11/41 [00:18<00:46,  1.57s/it]"
     ]
    },
    {
     "name": "stdout",
     "output_type": "stream",
     "text": [
      "Medical School White Coat Ceremonies\n"
     ]
    },
    {
     "name": "stderr",
     "output_type": "stream",
     "text": [
      " 29%|██▉       | 12/41 [00:21<00:58,  2.02s/it]"
     ]
    },
    {
     "name": "stdout",
     "output_type": "stream",
     "text": [
      "Birthday Celebrations\n"
     ]
    },
    {
     "name": "stderr",
     "output_type": "stream",
     "text": [
      " 32%|███▏      | 13/41 [00:24<01:01,  2.21s/it]"
     ]
    },
    {
     "name": "stdout",
     "output_type": "stream",
     "text": [
      "Charitable Donations to Schools\n"
     ]
    },
    {
     "name": "stderr",
     "output_type": "stream",
     "text": [
      " 34%|███▍      | 14/41 [00:26<01:03,  2.37s/it]"
     ]
    },
    {
     "name": "stdout",
     "output_type": "stream",
     "text": [
      "National Heroes Selection\n"
     ]
    },
    {
     "name": "stderr",
     "output_type": "stream",
     "text": [
      " 37%|███▋      | 15/41 [00:28<00:56,  2.18s/it]"
     ]
    },
    {
     "name": "stdout",
     "output_type": "stream",
     "text": [
      "Agricultural Investment in Caribbean\n"
     ]
    },
    {
     "name": "stderr",
     "output_type": "stream",
     "text": [
      " 39%|███▉      | 16/41 [00:29<00:47,  1.90s/it]"
     ]
    },
    {
     "name": "stdout",
     "output_type": "stream",
     "text": [
      "Obesity in Caribbean\n"
     ]
    },
    {
     "name": "stderr",
     "output_type": "stream",
     "text": [
      " 41%|████▏     | 17/41 [00:31<00:44,  1.85s/it]"
     ]
    },
    {
     "name": "stdout",
     "output_type": "stream",
     "text": [
      "Junior Calypso and Soca\n"
     ]
    },
    {
     "name": "stderr",
     "output_type": "stream",
     "text": [
      " 44%|████▍     | 18/41 [00:33<00:40,  1.77s/it]"
     ]
    },
    {
     "name": "stdout",
     "output_type": "stream",
     "text": [
      "Primary Exit Assessment\n"
     ]
    },
    {
     "name": "stderr",
     "output_type": "stream",
     "text": [
      " 46%|████▋     | 19/41 [00:35<00:42,  1.93s/it]"
     ]
    },
    {
     "name": "stdout",
     "output_type": "stream",
     "text": [
      "Beauty Pageants\n"
     ]
    },
    {
     "name": "stderr",
     "output_type": "stream",
     "text": [
      " 49%|████▉     | 20/41 [00:38<00:45,  2.16s/it]"
     ]
    },
    {
     "name": "stdout",
     "output_type": "stream",
     "text": [
      "La Soufriere Volcano\n"
     ]
    },
    {
     "name": "stderr",
     "output_type": "stream",
     "text": [
      " 51%|█████     | 21/41 [00:41<00:50,  2.53s/it]"
     ]
    },
    {
     "name": "stdout",
     "output_type": "stream",
     "text": [
      "Soufriere Volcano Eruption\n"
     ]
    },
    {
     "name": "stderr",
     "output_type": "stream",
     "text": [
      " 54%|█████▎    | 22/41 [00:42<00:40,  2.12s/it]"
     ]
    },
    {
     "name": "stdout",
     "output_type": "stream",
     "text": [
      "Funeral Announcements\n"
     ]
    },
    {
     "name": "stderr",
     "output_type": "stream",
     "text": [
      " 56%|█████▌    | 23/41 [00:44<00:36,  2.05s/it]"
     ]
    },
    {
     "name": "stdout",
     "output_type": "stream",
     "text": [
      "Mangrove Restoration Project\n"
     ]
    },
    {
     "name": "stderr",
     "output_type": "stream",
     "text": [
      " 59%|█████▊    | 24/41 [00:46<00:33,  1.98s/it]"
     ]
    },
    {
     "name": "stdout",
     "output_type": "stream",
     "text": [
      "Argyle International Airport\n"
     ]
    },
    {
     "name": "stderr",
     "output_type": "stream",
     "text": [
      " 61%|██████    | 25/41 [00:49<00:36,  2.27s/it]"
     ]
    },
    {
     "name": "stdout",
     "output_type": "stream",
     "text": [
      "Karib Cable Promotion\n",
      "Function failed with error HTTP code 504 from API (<HEAD><TITLE>Connection Timed Out</TITLE></HEAD>\n",
      "<BODY BGCOLOR=\"white\" FGCOLOR=\"black\"><H1>Connection Timed Out</H1><HR>\n",
      "<FONT FACE=\"Helvetica,Arial\"><B>\n",
      "Description: Connection Timed Out</B></FONT>\n",
      "<HR>\n",
      "<!-- default \"Connection Timed Out\" response (504) -->\n",
      "</BODY>\n",
      "                                                                                                                                                                                                                                                                                                                                                                                                              \u0000). Retrying after 5 seconds...\n"
     ]
    },
    {
     "name": "stderr",
     "output_type": "stream",
     "text": [
      " 63%|██████▎   | 26/41 [01:56<05:24, 21.61s/it]"
     ]
    },
    {
     "name": "stdout",
     "output_type": "stream",
     "text": [
      "Christmas Celebrations\n"
     ]
    },
    {
     "name": "stderr",
     "output_type": "stream",
     "text": [
      " 66%|██████▌   | 27/41 [01:57<03:39, 15.69s/it]"
     ]
    },
    {
     "name": "stdout",
     "output_type": "stream",
     "text": [
      "NTRC Telecommunications Support\n"
     ]
    },
    {
     "name": "stderr",
     "output_type": "stream",
     "text": [
      " 68%|██████▊   | 28/41 [01:59<02:28, 11.40s/it]"
     ]
    },
    {
     "name": "stdout",
     "output_type": "stream",
     "text": [
      "Police Force Operations\n"
     ]
    },
    {
     "name": "stderr",
     "output_type": "stream",
     "text": [
      " 71%|███████   | 29/41 [02:00<01:41,  8.46s/it]"
     ]
    },
    {
     "name": "stdout",
     "output_type": "stream",
     "text": [
      "Government Budget Analysis\n"
     ]
    },
    {
     "name": "stderr",
     "output_type": "stream",
     "text": [
      " 73%|███████▎  | 30/41 [02:02<01:10,  6.41s/it]"
     ]
    },
    {
     "name": "stdout",
     "output_type": "stream",
     "text": [
      "Vincentian Music Industry\n"
     ]
    },
    {
     "name": "stderr",
     "output_type": "stream",
     "text": [
      " 76%|███████▌  | 31/41 [02:04<00:49,  4.94s/it]"
     ]
    },
    {
     "name": "stdout",
     "output_type": "stream",
     "text": [
      "Caribbean Slavery Reparations\n",
      "Function failed with error HTTP code 504 from API (<HEAD><TITLE>Connection Timed Out</TITLE></HEAD>\n",
      "<BODY BGCOLOR=\"white\" FGCOLOR=\"black\"><H1>Connection Timed Out</H1><HR>\n",
      "<FONT FACE=\"Helvetica,Arial\"><B>\n",
      "Description: Connection Timed Out</B></FONT>\n",
      "<HR>\n",
      "<!-- default \"Connection Timed Out\" response (504) -->\n",
      "</BODY>\n",
      "                                                                                                                                                                                                                                                                                                                                                                                                              \u0000). Retrying after 5 seconds...\n",
      "Function failed with error HTTP code 504 from API (<HEAD><TITLE>Connection Timed Out</TITLE></HEAD>\n",
      "<BODY BGCOLOR=\"white\" FGCOLOR=\"black\"><H1>Connection Timed Out</H1><HR>\n",
      "<FONT FACE=\"Helvetica,Arial\"><B>\n",
      "Description: Connection Timed Out</B></FONT>\n",
      "<HR>\n",
      "<!-- default \"Connection Timed Out\" response (504) -->\n",
      "</BODY>\n",
      "                                                                                                                                                                                                                                                                                                                                                                                                              \u0000). Retrying after 5 seconds...\n"
     ]
    },
    {
     "name": "stderr",
     "output_type": "stream",
     "text": [
      " 78%|███████▊  | 32/41 [04:17<06:32, 43.56s/it]"
     ]
    },
    {
     "name": "stdout",
     "output_type": "stream",
     "text": [
      "UWI Open Campus\n",
      "Function failed with error HTTP code 504 from API (<HEAD><TITLE>Connection Timed Out</TITLE></HEAD>\n",
      "<BODY BGCOLOR=\"white\" FGCOLOR=\"black\"><H1>Connection Timed Out</H1><HR>\n",
      "<FONT FACE=\"Helvetica,Arial\"><B>\n",
      "Description: Connection Timed Out</B></FONT>\n",
      "<HR>\n",
      "<!-- default \"Connection Timed Out\" response (504) -->\n",
      "</BODY>\n",
      "                                                                                                                                                                                                                                                                                                                                                                                                              \u0000). Retrying after 5 seconds...\n"
     ]
    },
    {
     "name": "stderr",
     "output_type": "stream",
     "text": [
      " 80%|████████  | 33/41 [05:25<06:45, 50.70s/it]"
     ]
    },
    {
     "name": "stdout",
     "output_type": "stream",
     "text": [
      "Garifuna Conference\n"
     ]
    },
    {
     "name": "stderr",
     "output_type": "stream",
     "text": [
      " 83%|████████▎ | 34/41 [05:26<04:11, 35.87s/it]"
     ]
    },
    {
     "name": "stdout",
     "output_type": "stream",
     "text": [
      "Taiwan Relations\n"
     ]
    },
    {
     "name": "stderr",
     "output_type": "stream",
     "text": [
      " 85%|████████▌ | 35/41 [05:27<02:33, 25.58s/it]"
     ]
    },
    {
     "name": "stdout",
     "output_type": "stream",
     "text": [
      "National Day of Prayer\n"
     ]
    },
    {
     "name": "stderr",
     "output_type": "stream",
     "text": [
      " 88%|████████▊ | 36/41 [05:29<01:31, 18.38s/it]"
     ]
    },
    {
     "name": "stdout",
     "output_type": "stream",
     "text": [
      "Women in Politics\n"
     ]
    },
    {
     "name": "stderr",
     "output_type": "stream",
     "text": [
      " 90%|█████████ | 37/41 [05:32<00:54, 13.66s/it]"
     ]
    },
    {
     "name": "stdout",
     "output_type": "stream",
     "text": [
      "Police Force Appointments\n"
     ]
    },
    {
     "name": "stderr",
     "output_type": "stream",
     "text": [
      " 93%|█████████▎| 38/41 [05:33<00:30, 10.08s/it]"
     ]
    },
    {
     "name": "stdout",
     "output_type": "stream",
     "text": [
      "Renewable Energy Investment\n"
     ]
    },
    {
     "name": "stderr",
     "output_type": "stream",
     "text": [
      " 95%|█████████▌| 39/41 [05:35<00:15,  7.64s/it]"
     ]
    },
    {
     "name": "stdout",
     "output_type": "stream",
     "text": [
      "St. Vincent Flooding\n"
     ]
    },
    {
     "name": "stderr",
     "output_type": "stream",
     "text": [
      " 98%|█████████▊| 40/41 [05:39<00:06,  6.42s/it]"
     ]
    },
    {
     "name": "stdout",
     "output_type": "stream",
     "text": [
      "Flooding in St Vincent\n"
     ]
    },
    {
     "name": "stderr",
     "output_type": "stream",
     "text": [
      "100%|██████████| 41/41 [05:40<00:00,  8.31s/it]"
     ]
    },
    {
     "name": "stdout",
     "output_type": "stream",
     "text": [
      "Water Supply Issues\n"
     ]
    },
    {
     "name": "stderr",
     "output_type": "stream",
     "text": [
      "\n"
     ]
    }
   ],
   "source": [
    "llm_res = []\n",
    "for k,v in tqdm(rep_doc_dict.items()):\n",
    "    topic_pt_temp = copy.copy(topic_pt)\n",
    "    topic_pt_temp['Human']=topic_pt_temp['Human'].format(DOCUMENTS=v,KEYWORDS=topic_df.iloc[k]['topic_words'])\n",
    "    try:\n",
    "        res = llm_agent.get_response_content(prompt_template=topic_pt_temp,conv_history=[])\n",
    "        res_dict = llm_agent.parse_load_json_str(res)\n",
    "    except:\n",
    "        res_dict = {'topic':None,'topic_words':None,'description':None}\n",
    "    #print(res_dict['topic'])\n",
    "    res_dict['topic_id'] = k\n",
    "    llm_res.append(res_dict)"
   ]
  },
  {
   "cell_type": "code",
   "execution_count": 26,
   "metadata": {},
   "outputs": [
    {
     "data": {
      "text/html": [
       "<div>\n",
       "<style scoped>\n",
       "    .dataframe tbody tr th:only-of-type {\n",
       "        vertical-align: middle;\n",
       "    }\n",
       "\n",
       "    .dataframe tbody tr th {\n",
       "        vertical-align: top;\n",
       "    }\n",
       "\n",
       "    .dataframe thead th {\n",
       "        text-align: right;\n",
       "    }\n",
       "</style>\n",
       "<table border=\"1\" class=\"dataframe\">\n",
       "  <thead>\n",
       "    <tr style=\"text-align: right;\">\n",
       "      <th></th>\n",
       "      <th>llm_topic</th>\n",
       "      <th>llm_topic_words</th>\n",
       "      <th>llm_description</th>\n",
       "      <th>llm_topic_id</th>\n",
       "    </tr>\n",
       "  </thead>\n",
       "  <tbody>\n",
       "    <tr>\n",
       "      <th>0</th>\n",
       "      <td>Community College English Program</td>\n",
       "      <td>[Ecuadorean, teachers, English, Community Coll...</td>\n",
       "      <td>The initiative to teach Ecuadorean teachers En...</td>\n",
       "      <td>-1</td>\n",
       "    </tr>\n",
       "    <tr>\n",
       "      <th>1</th>\n",
       "      <td>Vincentian Athletics</td>\n",
       "      <td>[St Vincent, Vincentians, athletics, Penn Rela...</td>\n",
       "      <td>Coverage of St Vincent and the Grenadines' par...</td>\n",
       "      <td>0</td>\n",
       "    </tr>\n",
       "    <tr>\n",
       "      <th>2</th>\n",
       "      <td>Mental Health Centre</td>\n",
       "      <td>[psychiatric hospital, mental health, psychiat...</td>\n",
       "      <td>The court considers the report on model Yugge ...</td>\n",
       "      <td>1</td>\n",
       "    </tr>\n",
       "    <tr>\n",
       "      <th>3</th>\n",
       "      <td>School Reopening Concerns</td>\n",
       "      <td>[School reopening, Teachers' Union, Profession...</td>\n",
       "      <td>The discussion and concerns surrounding the pr...</td>\n",
       "      <td>2</td>\n",
       "    </tr>\n",
       "    <tr>\n",
       "      <th>4</th>\n",
       "      <td>Opposition Leadership Transition</td>\n",
       "      <td>[Opposition, Leadership, Transition, NDP, Conv...</td>\n",
       "      <td>The transition of leadership within the New De...</td>\n",
       "      <td>3</td>\n",
       "    </tr>\n",
       "  </tbody>\n",
       "</table>\n",
       "</div>"
      ],
      "text/plain": [
       "                           llm_topic  \\\n",
       "0  Community College English Program   \n",
       "1               Vincentian Athletics   \n",
       "2               Mental Health Centre   \n",
       "3          School Reopening Concerns   \n",
       "4   Opposition Leadership Transition   \n",
       "\n",
       "                                     llm_topic_words  \\\n",
       "0  [Ecuadorean, teachers, English, Community Coll...   \n",
       "1  [St Vincent, Vincentians, athletics, Penn Rela...   \n",
       "2  [psychiatric hospital, mental health, psychiat...   \n",
       "3  [School reopening, Teachers' Union, Profession...   \n",
       "4  [Opposition, Leadership, Transition, NDP, Conv...   \n",
       "\n",
       "                                     llm_description  llm_topic_id  \n",
       "0  The initiative to teach Ecuadorean teachers En...            -1  \n",
       "1  Coverage of St Vincent and the Grenadines' par...             0  \n",
       "2  The court considers the report on model Yugge ...             1  \n",
       "3  The discussion and concerns surrounding the pr...             2  \n",
       "4  The transition of leadership within the New De...             3  "
      ]
     },
     "execution_count": 26,
     "metadata": {},
     "output_type": "execute_result"
    }
   ],
   "source": [
    "llm_df = pd.DataFrame(llm_res)\n",
    "llm_df=llm_df.sort_values('topic_id',ascending=True)\n",
    "llm_df.columns = ['llm_topic','llm_topic_words','llm_description','llm_topic_id']\n",
    "llm_df.head()"
   ]
  },
  {
   "cell_type": "code",
   "execution_count": 27,
   "metadata": {},
   "outputs": [
    {
     "data": {
      "text/html": [
       "<div>\n",
       "<style scoped>\n",
       "    .dataframe tbody tr th:only-of-type {\n",
       "        vertical-align: middle;\n",
       "    }\n",
       "\n",
       "    .dataframe tbody tr th {\n",
       "        vertical-align: top;\n",
       "    }\n",
       "\n",
       "    .dataframe thead th {\n",
       "        text-align: right;\n",
       "    }\n",
       "</style>\n",
       "<table border=\"1\" class=\"dataframe\">\n",
       "  <thead>\n",
       "    <tr style=\"text-align: right;\">\n",
       "      <th></th>\n",
       "      <th>Topic</th>\n",
       "      <th>Count</th>\n",
       "      <th>Name</th>\n",
       "      <th>topic_words</th>\n",
       "      <th>llm_topic</th>\n",
       "      <th>llm_topic_words</th>\n",
       "      <th>llm_description</th>\n",
       "      <th>llm_topic_id</th>\n",
       "    </tr>\n",
       "  </thead>\n",
       "  <tbody>\n",
       "    <tr>\n",
       "      <th>0</th>\n",
       "      <td>-1</td>\n",
       "      <td>727</td>\n",
       "      <td>-1_st vincent_vincentian_vincent grenadines_vi...</td>\n",
       "      <td>st vincent, vincentian, vincent grenadines, vi...</td>\n",
       "      <td>Community College English Program</td>\n",
       "      <td>[Ecuadorean, teachers, English, Community Coll...</td>\n",
       "      <td>The initiative to teach Ecuadorean teachers En...</td>\n",
       "      <td>-1</td>\n",
       "    </tr>\n",
       "    <tr>\n",
       "      <th>1</th>\n",
       "      <td>0</td>\n",
       "      <td>336</td>\n",
       "      <td>0_tournament_tennis_athletics_championship</td>\n",
       "      <td>tournament, tennis, athletics, championship, c...</td>\n",
       "      <td>Vincentian Athletics</td>\n",
       "      <td>[St Vincent, Vincentians, athletics, Penn Rela...</td>\n",
       "      <td>Coverage of St Vincent and the Grenadines' par...</td>\n",
       "      <td>0</td>\n",
       "    </tr>\n",
       "    <tr>\n",
       "      <th>2</th>\n",
       "      <td>1</td>\n",
       "      <td>304</td>\n",
       "      <td>1_accused_prosecution_magistrate_offences</td>\n",
       "      <td>accused, prosecution, magistrate, offences, cr...</td>\n",
       "      <td>Mental Health Centre</td>\n",
       "      <td>[psychiatric hospital, mental health, psychiat...</td>\n",
       "      <td>The court considers the report on model Yugge ...</td>\n",
       "      <td>1</td>\n",
       "    </tr>\n",
       "    <tr>\n",
       "      <th>3</th>\n",
       "      <td>2</td>\n",
       "      <td>237</td>\n",
       "      <td>2_teachers union_teachers_students_classroom</td>\n",
       "      <td>teachers union, teachers, students, classroom,...</td>\n",
       "      <td>School Reopening Concerns</td>\n",
       "      <td>[School reopening, Teachers' Union, Profession...</td>\n",
       "      <td>The discussion and concerns surrounding the pr...</td>\n",
       "      <td>2</td>\n",
       "    </tr>\n",
       "    <tr>\n",
       "      <th>4</th>\n",
       "      <td>3</td>\n",
       "      <td>113</td>\n",
       "      <td>3_party ndp_ndp_democratic party_new democratic</td>\n",
       "      <td>party ndp, ndp, democratic party, new democrat...</td>\n",
       "      <td>Opposition Leadership Transition</td>\n",
       "      <td>[Opposition, Leadership, Transition, NDP, Conv...</td>\n",
       "      <td>The transition of leadership within the New De...</td>\n",
       "      <td>3</td>\n",
       "    </tr>\n",
       "  </tbody>\n",
       "</table>\n",
       "</div>"
      ],
      "text/plain": [
       "   Topic  Count                                               Name  \\\n",
       "0     -1    727  -1_st vincent_vincentian_vincent grenadines_vi...   \n",
       "1      0    336         0_tournament_tennis_athletics_championship   \n",
       "2      1    304          1_accused_prosecution_magistrate_offences   \n",
       "3      2    237       2_teachers union_teachers_students_classroom   \n",
       "4      3    113    3_party ndp_ndp_democratic party_new democratic   \n",
       "\n",
       "                                         topic_words  \\\n",
       "0  st vincent, vincentian, vincent grenadines, vi...   \n",
       "1  tournament, tennis, athletics, championship, c...   \n",
       "2  accused, prosecution, magistrate, offences, cr...   \n",
       "3  teachers union, teachers, students, classroom,...   \n",
       "4  party ndp, ndp, democratic party, new democrat...   \n",
       "\n",
       "                           llm_topic  \\\n",
       "0  Community College English Program   \n",
       "1               Vincentian Athletics   \n",
       "2               Mental Health Centre   \n",
       "3          School Reopening Concerns   \n",
       "4   Opposition Leadership Transition   \n",
       "\n",
       "                                     llm_topic_words  \\\n",
       "0  [Ecuadorean, teachers, English, Community Coll...   \n",
       "1  [St Vincent, Vincentians, athletics, Penn Rela...   \n",
       "2  [psychiatric hospital, mental health, psychiat...   \n",
       "3  [School reopening, Teachers' Union, Profession...   \n",
       "4  [Opposition, Leadership, Transition, NDP, Conv...   \n",
       "\n",
       "                                     llm_description  llm_topic_id  \n",
       "0  The initiative to teach Ecuadorean teachers En...            -1  \n",
       "1  Coverage of St Vincent and the Grenadines' par...             0  \n",
       "2  The court considers the report on model Yugge ...             1  \n",
       "3  The discussion and concerns surrounding the pr...             2  \n",
       "4  The transition of leadership within the New De...             3  "
      ]
     },
     "execution_count": 27,
     "metadata": {},
     "output_type": "execute_result"
    }
   ],
   "source": [
    "final_result = pd.merge(topic_df, llm_df, how='left',left_on='Topic',right_on='llm_topic_id')\n",
    "final_result.head()"
   ]
  },
  {
   "cell_type": "code",
   "execution_count": 28,
   "metadata": {},
   "outputs": [],
   "source": [
    "llm_fintune_out = os.path.join(res_folder,'llm_results.xlsx')\n",
    "final_result.to_excel(llm_fintune_out)"
   ]
  },
  {
   "cell_type": "code",
   "execution_count": null,
   "metadata": {},
   "outputs": [],
   "source": []
  }
 ],
 "metadata": {
  "kernelspec": {
   "display_name": "sbert",
   "language": "python",
   "name": "python3"
  },
  "language_info": {
   "codemirror_mode": {
    "name": "ipython",
    "version": 3
   },
   "file_extension": ".py",
   "mimetype": "text/x-python",
   "name": "python",
   "nbconvert_exporter": "python",
   "pygments_lexer": "ipython3",
   "version": "3.8.13"
  }
 },
 "nbformat": 4,
 "nbformat_minor": 2
}
