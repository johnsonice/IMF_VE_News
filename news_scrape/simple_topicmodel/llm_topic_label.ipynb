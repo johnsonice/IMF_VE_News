{
 "cells": [
  {
   "cell_type": "markdown",
   "metadata": {},
   "source": [
    "### use llm for topic representation"
   ]
  },
  {
   "cell_type": "code",
   "execution_count": 29,
   "metadata": {},
   "outputs": [],
   "source": [
    "import os,sys\n",
    "sys.path.insert(0,'../libs')\n",
    "from utils import load_json\n",
    "import openai\n",
    "from llm_utils import BSAgent_legacy\n",
    "import numpy as np\n",
    "from bertopic import BERTopic\n",
    "import pandas as pd\n",
    "import re,json,copy\n",
    "from tqdm import tqdm\n",
    "## load API Key\n",
    "key = load_json('/home/chuang/Dev/Keys/openai_key.json') \n",
    "os.environ['OPENAI_API_KEY'] = key['ChatGPT']['API_KEY']\n",
    "openai.api_key  = os.getenv('OPENAI_API_KEY')"
   ]
  },
  {
   "cell_type": "markdown",
   "metadata": {},
   "source": [
    "- load legacy llm agent class, as fund server having problem with the new version"
   ]
  },
  {
   "cell_type": "code",
   "execution_count": 30,
   "metadata": {},
   "outputs": [],
   "source": [
    "llm_agent  = BSAgent_legacy(model=\"gpt-3.5-turbo-1106\", \n",
    "                    temperature=0)"
   ]
  },
  {
   "cell_type": "code",
   "execution_count": 31,
   "metadata": {},
   "outputs": [
    {
     "name": "stdout",
     "output_type": "stream",
     "text": [
      "I'm a helpful assistant here to answer your questions and assist you with any information you need. You can call me \"Assistant.\"\n"
     ]
    }
   ],
   "source": [
    "## just run one test, make sure the api works \n",
    "pt = {'System':'You are a helpful assistant.',\n",
    "      'Human':'What is your name?'}\n",
    "res = llm_agent.get_response_content(prompt_template=pt)\n",
    "print(res)  \n"
   ]
  },
  {
   "cell_type": "code",
   "execution_count": 32,
   "metadata": {},
   "outputs": [],
   "source": [
    "res_folder = '/data/chuang/news_scrape/data/news_search_res'\n",
    "emb_path  = os.path.join(res_folder,'sentence_embeddings.npy')\n",
    "docs_path = os.path.join(res_folder,'docs.npy')\n",
    "topic_model_out_path = os.path.join(res_folder,'topic_model')"
   ]
  },
  {
   "cell_type": "code",
   "execution_count": 33,
   "metadata": {},
   "outputs": [],
   "source": [
    "topic_model = BERTopic.load(topic_model_out_path)\n",
    "topic_model.calculate_probabilities = False ## do not calculate probs for all topics \n",
    "## load training doc and embeddings \n",
    "embeddings = np.load(emb_path)\n",
    "docs = np.load(docs_path)"
   ]
  },
  {
   "cell_type": "code",
   "execution_count": 34,
   "metadata": {},
   "outputs": [
    {
     "data": {
      "application/vnd.plotly.v1+json": {
       "config": {
        "plotlyServerURL": "https://plot.ly"
       },
       "data": [
        {
         "marker": {
          "color": "#D55E00"
         },
         "orientation": "h",
         "type": "bar",
         "x": [
          0.34845051169395447,
          0.39130139350891113,
          0.4607226848602295,
          0.47115179896354675,
          0.5294373631477356
         ],
         "xaxis": "x",
         "y": [
          "tennis  ",
          "tournament  ",
          "west indies  ",
          "indies  ",
          "cricket  "
         ],
         "yaxis": "y"
        },
        {
         "marker": {
          "color": "#0072B2"
         },
         "orientation": "h",
         "type": "bar",
         "x": [
          0.4337088465690613,
          0.43986284732818604,
          0.44006800651550293,
          0.4425581693649292,
          0.46948620676994324
         ],
         "xaxis": "x2",
         "y": [
          "june 2023  ",
          "june 2018  ",
          "july 2023  ",
          "july 2018  ",
          "radio svg  "
         ],
         "yaxis": "y2"
        },
        {
         "marker": {
          "color": "#CC79A7"
         },
         "orientation": "h",
         "type": "bar",
         "x": [
          0.3929043710231781,
          0.4286864399909973,
          0.4785744249820709,
          0.5209463834762573,
          0.5895940065383911
         ],
         "xaxis": "x3",
         "y": [
          "flu  ",
          "19 cases  ",
          "coronavirus  ",
          "covid  ",
          "covid 19  "
         ],
         "yaxis": "y3"
        },
        {
         "marker": {
          "color": "#E69F00"
         },
         "orientation": "h",
         "type": "bar",
         "x": [
          0.45769208669662476,
          0.46747148036956787,
          0.47313109040260315,
          0.4733896553516388,
          0.48468151688575745
         ],
         "xaxis": "x4",
         "y": [
          "bail  ",
          "offences court  ",
          "robbery  ",
          "prosecution  ",
          "accused  "
         ],
         "yaxis": "y4"
        },
        {
         "marker": {
          "color": "#56B4E9"
         },
         "orientation": "h",
         "type": "bar",
         "x": [
          0.22383369505405426,
          0.2376304715871811,
          0.23957762122154236,
          0.24759367108345032,
          0.26989054679870605
         ],
         "xaxis": "x5",
         "y": [
          "sexual  ",
          "sex  ",
          "marriage  ",
          "trust  ",
          "cheating  "
         ],
         "yaxis": "y5"
        },
        {
         "marker": {
          "color": "#009E73"
         },
         "orientation": "h",
         "type": "bar",
         "x": [
          0.4895080327987671,
          0.49366989731788635,
          0.4942602217197418,
          0.55511873960495,
          0.6201003789901733
         ],
         "xaxis": "x6",
         "y": [
          "democratic party  ",
          "labour party  ",
          "party ulp  ",
          "ndp  ",
          "party ndp  "
         ],
         "yaxis": "y6"
        },
        {
         "marker": {
          "color": "#F0E442"
         },
         "orientation": "h",
         "type": "bar",
         "x": [
          0.5153548717498779,
          0.5222042202949524,
          0.5342759490013123,
          0.5436609983444214,
          0.5459922552108765
         ],
         "xaxis": "x7",
         "y": [
          "minister agriculture  ",
          "agricultural  ",
          "agriculture  ",
          "crops  ",
          "ministry agriculture  "
         ],
         "yaxis": "y7"
        },
        {
         "marker": {
          "color": "#D55E00"
         },
         "orientation": "h",
         "type": "bar",
         "x": [
          0.35989001393318176,
          0.3616848587989807,
          0.38686272501945496,
          0.39306485652923584,
          0.41013455390930176
         ],
         "xaxis": "x8",
         "y": [
          "injured  ",
          "died  ",
          "incident  ",
          "deceased  ",
          "homicide  "
         ],
         "yaxis": "y8"
        }
       ],
       "layout": {
        "annotations": [
         {
          "font": {
           "size": 16
          },
          "showarrow": false,
          "text": "Topic 0",
          "x": 0.0875,
          "xanchor": "center",
          "xref": "paper",
          "y": 1,
          "yanchor": "bottom",
          "yref": "paper"
         },
         {
          "font": {
           "size": 16
          },
          "showarrow": false,
          "text": "Topic 1",
          "x": 0.36250000000000004,
          "xanchor": "center",
          "xref": "paper",
          "y": 1,
          "yanchor": "bottom",
          "yref": "paper"
         },
         {
          "font": {
           "size": 16
          },
          "showarrow": false,
          "text": "Topic 2",
          "x": 0.6375000000000001,
          "xanchor": "center",
          "xref": "paper",
          "y": 1,
          "yanchor": "bottom",
          "yref": "paper"
         },
         {
          "font": {
           "size": 16
          },
          "showarrow": false,
          "text": "Topic 3",
          "x": 0.9125,
          "xanchor": "center",
          "xref": "paper",
          "y": 1,
          "yanchor": "bottom",
          "yref": "paper"
         },
         {
          "font": {
           "size": 16
          },
          "showarrow": false,
          "text": "Topic 4",
          "x": 0.0875,
          "xanchor": "center",
          "xref": "paper",
          "y": 0.4,
          "yanchor": "bottom",
          "yref": "paper"
         },
         {
          "font": {
           "size": 16
          },
          "showarrow": false,
          "text": "Topic 5",
          "x": 0.36250000000000004,
          "xanchor": "center",
          "xref": "paper",
          "y": 0.4,
          "yanchor": "bottom",
          "yref": "paper"
         },
         {
          "font": {
           "size": 16
          },
          "showarrow": false,
          "text": "Topic 6",
          "x": 0.6375000000000001,
          "xanchor": "center",
          "xref": "paper",
          "y": 0.4,
          "yanchor": "bottom",
          "yref": "paper"
         },
         {
          "font": {
           "size": 16
          },
          "showarrow": false,
          "text": "Topic 7",
          "x": 0.9125,
          "xanchor": "center",
          "xref": "paper",
          "y": 0.4,
          "yanchor": "bottom",
          "yref": "paper"
         }
        ],
        "height": 500,
        "hoverlabel": {
         "bgcolor": "white",
         "font": {
          "family": "Rockwell",
          "size": 16
         }
        },
        "showlegend": false,
        "template": {
         "data": {
          "bar": [
           {
            "error_x": {
             "color": "#2a3f5f"
            },
            "error_y": {
             "color": "#2a3f5f"
            },
            "marker": {
             "line": {
              "color": "white",
              "width": 0.5
             },
             "pattern": {
              "fillmode": "overlay",
              "size": 10,
              "solidity": 0.2
             }
            },
            "type": "bar"
           }
          ],
          "barpolar": [
           {
            "marker": {
             "line": {
              "color": "white",
              "width": 0.5
             },
             "pattern": {
              "fillmode": "overlay",
              "size": 10,
              "solidity": 0.2
             }
            },
            "type": "barpolar"
           }
          ],
          "carpet": [
           {
            "aaxis": {
             "endlinecolor": "#2a3f5f",
             "gridcolor": "#C8D4E3",
             "linecolor": "#C8D4E3",
             "minorgridcolor": "#C8D4E3",
             "startlinecolor": "#2a3f5f"
            },
            "baxis": {
             "endlinecolor": "#2a3f5f",
             "gridcolor": "#C8D4E3",
             "linecolor": "#C8D4E3",
             "minorgridcolor": "#C8D4E3",
             "startlinecolor": "#2a3f5f"
            },
            "type": "carpet"
           }
          ],
          "choropleth": [
           {
            "colorbar": {
             "outlinewidth": 0,
             "ticks": ""
            },
            "type": "choropleth"
           }
          ],
          "contour": [
           {
            "colorbar": {
             "outlinewidth": 0,
             "ticks": ""
            },
            "colorscale": [
             [
              0,
              "#0d0887"
             ],
             [
              0.1111111111111111,
              "#46039f"
             ],
             [
              0.2222222222222222,
              "#7201a8"
             ],
             [
              0.3333333333333333,
              "#9c179e"
             ],
             [
              0.4444444444444444,
              "#bd3786"
             ],
             [
              0.5555555555555556,
              "#d8576b"
             ],
             [
              0.6666666666666666,
              "#ed7953"
             ],
             [
              0.7777777777777778,
              "#fb9f3a"
             ],
             [
              0.8888888888888888,
              "#fdca26"
             ],
             [
              1,
              "#f0f921"
             ]
            ],
            "type": "contour"
           }
          ],
          "contourcarpet": [
           {
            "colorbar": {
             "outlinewidth": 0,
             "ticks": ""
            },
            "type": "contourcarpet"
           }
          ],
          "heatmap": [
           {
            "colorbar": {
             "outlinewidth": 0,
             "ticks": ""
            },
            "colorscale": [
             [
              0,
              "#0d0887"
             ],
             [
              0.1111111111111111,
              "#46039f"
             ],
             [
              0.2222222222222222,
              "#7201a8"
             ],
             [
              0.3333333333333333,
              "#9c179e"
             ],
             [
              0.4444444444444444,
              "#bd3786"
             ],
             [
              0.5555555555555556,
              "#d8576b"
             ],
             [
              0.6666666666666666,
              "#ed7953"
             ],
             [
              0.7777777777777778,
              "#fb9f3a"
             ],
             [
              0.8888888888888888,
              "#fdca26"
             ],
             [
              1,
              "#f0f921"
             ]
            ],
            "type": "heatmap"
           }
          ],
          "heatmapgl": [
           {
            "colorbar": {
             "outlinewidth": 0,
             "ticks": ""
            },
            "colorscale": [
             [
              0,
              "#0d0887"
             ],
             [
              0.1111111111111111,
              "#46039f"
             ],
             [
              0.2222222222222222,
              "#7201a8"
             ],
             [
              0.3333333333333333,
              "#9c179e"
             ],
             [
              0.4444444444444444,
              "#bd3786"
             ],
             [
              0.5555555555555556,
              "#d8576b"
             ],
             [
              0.6666666666666666,
              "#ed7953"
             ],
             [
              0.7777777777777778,
              "#fb9f3a"
             ],
             [
              0.8888888888888888,
              "#fdca26"
             ],
             [
              1,
              "#f0f921"
             ]
            ],
            "type": "heatmapgl"
           }
          ],
          "histogram": [
           {
            "marker": {
             "pattern": {
              "fillmode": "overlay",
              "size": 10,
              "solidity": 0.2
             }
            },
            "type": "histogram"
           }
          ],
          "histogram2d": [
           {
            "colorbar": {
             "outlinewidth": 0,
             "ticks": ""
            },
            "colorscale": [
             [
              0,
              "#0d0887"
             ],
             [
              0.1111111111111111,
              "#46039f"
             ],
             [
              0.2222222222222222,
              "#7201a8"
             ],
             [
              0.3333333333333333,
              "#9c179e"
             ],
             [
              0.4444444444444444,
              "#bd3786"
             ],
             [
              0.5555555555555556,
              "#d8576b"
             ],
             [
              0.6666666666666666,
              "#ed7953"
             ],
             [
              0.7777777777777778,
              "#fb9f3a"
             ],
             [
              0.8888888888888888,
              "#fdca26"
             ],
             [
              1,
              "#f0f921"
             ]
            ],
            "type": "histogram2d"
           }
          ],
          "histogram2dcontour": [
           {
            "colorbar": {
             "outlinewidth": 0,
             "ticks": ""
            },
            "colorscale": [
             [
              0,
              "#0d0887"
             ],
             [
              0.1111111111111111,
              "#46039f"
             ],
             [
              0.2222222222222222,
              "#7201a8"
             ],
             [
              0.3333333333333333,
              "#9c179e"
             ],
             [
              0.4444444444444444,
              "#bd3786"
             ],
             [
              0.5555555555555556,
              "#d8576b"
             ],
             [
              0.6666666666666666,
              "#ed7953"
             ],
             [
              0.7777777777777778,
              "#fb9f3a"
             ],
             [
              0.8888888888888888,
              "#fdca26"
             ],
             [
              1,
              "#f0f921"
             ]
            ],
            "type": "histogram2dcontour"
           }
          ],
          "mesh3d": [
           {
            "colorbar": {
             "outlinewidth": 0,
             "ticks": ""
            },
            "type": "mesh3d"
           }
          ],
          "parcoords": [
           {
            "line": {
             "colorbar": {
              "outlinewidth": 0,
              "ticks": ""
             }
            },
            "type": "parcoords"
           }
          ],
          "pie": [
           {
            "automargin": true,
            "type": "pie"
           }
          ],
          "scatter": [
           {
            "fillpattern": {
             "fillmode": "overlay",
             "size": 10,
             "solidity": 0.2
            },
            "type": "scatter"
           }
          ],
          "scatter3d": [
           {
            "line": {
             "colorbar": {
              "outlinewidth": 0,
              "ticks": ""
             }
            },
            "marker": {
             "colorbar": {
              "outlinewidth": 0,
              "ticks": ""
             }
            },
            "type": "scatter3d"
           }
          ],
          "scattercarpet": [
           {
            "marker": {
             "colorbar": {
              "outlinewidth": 0,
              "ticks": ""
             }
            },
            "type": "scattercarpet"
           }
          ],
          "scattergeo": [
           {
            "marker": {
             "colorbar": {
              "outlinewidth": 0,
              "ticks": ""
             }
            },
            "type": "scattergeo"
           }
          ],
          "scattergl": [
           {
            "marker": {
             "colorbar": {
              "outlinewidth": 0,
              "ticks": ""
             }
            },
            "type": "scattergl"
           }
          ],
          "scattermapbox": [
           {
            "marker": {
             "colorbar": {
              "outlinewidth": 0,
              "ticks": ""
             }
            },
            "type": "scattermapbox"
           }
          ],
          "scatterpolar": [
           {
            "marker": {
             "colorbar": {
              "outlinewidth": 0,
              "ticks": ""
             }
            },
            "type": "scatterpolar"
           }
          ],
          "scatterpolargl": [
           {
            "marker": {
             "colorbar": {
              "outlinewidth": 0,
              "ticks": ""
             }
            },
            "type": "scatterpolargl"
           }
          ],
          "scatterternary": [
           {
            "marker": {
             "colorbar": {
              "outlinewidth": 0,
              "ticks": ""
             }
            },
            "type": "scatterternary"
           }
          ],
          "surface": [
           {
            "colorbar": {
             "outlinewidth": 0,
             "ticks": ""
            },
            "colorscale": [
             [
              0,
              "#0d0887"
             ],
             [
              0.1111111111111111,
              "#46039f"
             ],
             [
              0.2222222222222222,
              "#7201a8"
             ],
             [
              0.3333333333333333,
              "#9c179e"
             ],
             [
              0.4444444444444444,
              "#bd3786"
             ],
             [
              0.5555555555555556,
              "#d8576b"
             ],
             [
              0.6666666666666666,
              "#ed7953"
             ],
             [
              0.7777777777777778,
              "#fb9f3a"
             ],
             [
              0.8888888888888888,
              "#fdca26"
             ],
             [
              1,
              "#f0f921"
             ]
            ],
            "type": "surface"
           }
          ],
          "table": [
           {
            "cells": {
             "fill": {
              "color": "#EBF0F8"
             },
             "line": {
              "color": "white"
             }
            },
            "header": {
             "fill": {
              "color": "#C8D4E3"
             },
             "line": {
              "color": "white"
             }
            },
            "type": "table"
           }
          ]
         },
         "layout": {
          "annotationdefaults": {
           "arrowcolor": "#2a3f5f",
           "arrowhead": 0,
           "arrowwidth": 1
          },
          "autotypenumbers": "strict",
          "coloraxis": {
           "colorbar": {
            "outlinewidth": 0,
            "ticks": ""
           }
          },
          "colorscale": {
           "diverging": [
            [
             0,
             "#8e0152"
            ],
            [
             0.1,
             "#c51b7d"
            ],
            [
             0.2,
             "#de77ae"
            ],
            [
             0.3,
             "#f1b6da"
            ],
            [
             0.4,
             "#fde0ef"
            ],
            [
             0.5,
             "#f7f7f7"
            ],
            [
             0.6,
             "#e6f5d0"
            ],
            [
             0.7,
             "#b8e186"
            ],
            [
             0.8,
             "#7fbc41"
            ],
            [
             0.9,
             "#4d9221"
            ],
            [
             1,
             "#276419"
            ]
           ],
           "sequential": [
            [
             0,
             "#0d0887"
            ],
            [
             0.1111111111111111,
             "#46039f"
            ],
            [
             0.2222222222222222,
             "#7201a8"
            ],
            [
             0.3333333333333333,
             "#9c179e"
            ],
            [
             0.4444444444444444,
             "#bd3786"
            ],
            [
             0.5555555555555556,
             "#d8576b"
            ],
            [
             0.6666666666666666,
             "#ed7953"
            ],
            [
             0.7777777777777778,
             "#fb9f3a"
            ],
            [
             0.8888888888888888,
             "#fdca26"
            ],
            [
             1,
             "#f0f921"
            ]
           ],
           "sequentialminus": [
            [
             0,
             "#0d0887"
            ],
            [
             0.1111111111111111,
             "#46039f"
            ],
            [
             0.2222222222222222,
             "#7201a8"
            ],
            [
             0.3333333333333333,
             "#9c179e"
            ],
            [
             0.4444444444444444,
             "#bd3786"
            ],
            [
             0.5555555555555556,
             "#d8576b"
            ],
            [
             0.6666666666666666,
             "#ed7953"
            ],
            [
             0.7777777777777778,
             "#fb9f3a"
            ],
            [
             0.8888888888888888,
             "#fdca26"
            ],
            [
             1,
             "#f0f921"
            ]
           ]
          },
          "colorway": [
           "#636efa",
           "#EF553B",
           "#00cc96",
           "#ab63fa",
           "#FFA15A",
           "#19d3f3",
           "#FF6692",
           "#B6E880",
           "#FF97FF",
           "#FECB52"
          ],
          "font": {
           "color": "#2a3f5f"
          },
          "geo": {
           "bgcolor": "white",
           "lakecolor": "white",
           "landcolor": "white",
           "showlakes": true,
           "showland": true,
           "subunitcolor": "#C8D4E3"
          },
          "hoverlabel": {
           "align": "left"
          },
          "hovermode": "closest",
          "mapbox": {
           "style": "light"
          },
          "paper_bgcolor": "white",
          "plot_bgcolor": "white",
          "polar": {
           "angularaxis": {
            "gridcolor": "#EBF0F8",
            "linecolor": "#EBF0F8",
            "ticks": ""
           },
           "bgcolor": "white",
           "radialaxis": {
            "gridcolor": "#EBF0F8",
            "linecolor": "#EBF0F8",
            "ticks": ""
           }
          },
          "scene": {
           "xaxis": {
            "backgroundcolor": "white",
            "gridcolor": "#DFE8F3",
            "gridwidth": 2,
            "linecolor": "#EBF0F8",
            "showbackground": true,
            "ticks": "",
            "zerolinecolor": "#EBF0F8"
           },
           "yaxis": {
            "backgroundcolor": "white",
            "gridcolor": "#DFE8F3",
            "gridwidth": 2,
            "linecolor": "#EBF0F8",
            "showbackground": true,
            "ticks": "",
            "zerolinecolor": "#EBF0F8"
           },
           "zaxis": {
            "backgroundcolor": "white",
            "gridcolor": "#DFE8F3",
            "gridwidth": 2,
            "linecolor": "#EBF0F8",
            "showbackground": true,
            "ticks": "",
            "zerolinecolor": "#EBF0F8"
           }
          },
          "shapedefaults": {
           "line": {
            "color": "#2a3f5f"
           }
          },
          "ternary": {
           "aaxis": {
            "gridcolor": "#DFE8F3",
            "linecolor": "#A2B1C6",
            "ticks": ""
           },
           "baxis": {
            "gridcolor": "#DFE8F3",
            "linecolor": "#A2B1C6",
            "ticks": ""
           },
           "bgcolor": "white",
           "caxis": {
            "gridcolor": "#DFE8F3",
            "linecolor": "#A2B1C6",
            "ticks": ""
           }
          },
          "title": {
           "x": 0.05
          },
          "xaxis": {
           "automargin": true,
           "gridcolor": "#EBF0F8",
           "linecolor": "#EBF0F8",
           "ticks": "",
           "title": {
            "standoff": 15
           },
           "zerolinecolor": "#EBF0F8",
           "zerolinewidth": 2
          },
          "yaxis": {
           "automargin": true,
           "gridcolor": "#EBF0F8",
           "linecolor": "#EBF0F8",
           "ticks": "",
           "title": {
            "standoff": 15
           },
           "zerolinecolor": "#EBF0F8",
           "zerolinewidth": 2
          }
         }
        },
        "title": {
         "font": {
          "color": "Black",
          "size": 22
         },
         "text": "Topic Word Scores",
         "x": 0.5,
         "xanchor": "center",
         "yanchor": "top"
        },
        "width": 1000,
        "xaxis": {
         "anchor": "y",
         "domain": [
          0,
          0.175
         ],
         "showgrid": true
        },
        "xaxis2": {
         "anchor": "y2",
         "domain": [
          0.275,
          0.45
         ],
         "showgrid": true
        },
        "xaxis3": {
         "anchor": "y3",
         "domain": [
          0.55,
          0.7250000000000001
         ],
         "showgrid": true
        },
        "xaxis4": {
         "anchor": "y4",
         "domain": [
          0.825,
          1
         ],
         "showgrid": true
        },
        "xaxis5": {
         "anchor": "y5",
         "domain": [
          0,
          0.175
         ],
         "showgrid": true
        },
        "xaxis6": {
         "anchor": "y6",
         "domain": [
          0.275,
          0.45
         ],
         "showgrid": true
        },
        "xaxis7": {
         "anchor": "y7",
         "domain": [
          0.55,
          0.7250000000000001
         ],
         "showgrid": true
        },
        "xaxis8": {
         "anchor": "y8",
         "domain": [
          0.825,
          1
         ],
         "showgrid": true
        },
        "yaxis": {
         "anchor": "x",
         "domain": [
          0.6000000000000001,
          1
         ],
         "showgrid": true
        },
        "yaxis2": {
         "anchor": "x2",
         "domain": [
          0.6000000000000001,
          1
         ],
         "showgrid": true
        },
        "yaxis3": {
         "anchor": "x3",
         "domain": [
          0.6000000000000001,
          1
         ],
         "showgrid": true
        },
        "yaxis4": {
         "anchor": "x4",
         "domain": [
          0.6000000000000001,
          1
         ],
         "showgrid": true
        },
        "yaxis5": {
         "anchor": "x5",
         "domain": [
          0,
          0.4
         ],
         "showgrid": true
        },
        "yaxis6": {
         "anchor": "x6",
         "domain": [
          0,
          0.4
         ],
         "showgrid": true
        },
        "yaxis7": {
         "anchor": "x7",
         "domain": [
          0,
          0.4
         ],
         "showgrid": true
        },
        "yaxis8": {
         "anchor": "x8",
         "domain": [
          0,
          0.4
         ],
         "showgrid": true
        }
       }
      }
     },
     "metadata": {},
     "output_type": "display_data"
    }
   ],
   "source": [
    "topic_model.visualize_barchart()"
   ]
  },
  {
   "cell_type": "code",
   "execution_count": 35,
   "metadata": {},
   "outputs": [
    {
     "data": {
      "text/html": [
       "<div>\n",
       "<style scoped>\n",
       "    .dataframe tbody tr th:only-of-type {\n",
       "        vertical-align: middle;\n",
       "    }\n",
       "\n",
       "    .dataframe tbody tr th {\n",
       "        vertical-align: top;\n",
       "    }\n",
       "\n",
       "    .dataframe thead th {\n",
       "        text-align: right;\n",
       "    }\n",
       "</style>\n",
       "<table border=\"1\" class=\"dataframe\">\n",
       "  <thead>\n",
       "    <tr style=\"text-align: right;\">\n",
       "      <th></th>\n",
       "      <th>Topic</th>\n",
       "      <th>Count</th>\n",
       "      <th>Name</th>\n",
       "      <th>topic_words</th>\n",
       "    </tr>\n",
       "  </thead>\n",
       "  <tbody>\n",
       "    <tr>\n",
       "      <th>0</th>\n",
       "      <td>-1</td>\n",
       "      <td>4988</td>\n",
       "      <td>-1_2021_2023_2022_2020</td>\n",
       "      <td>2021, 2023, 2022, 2020, 2019, july, june, radi...</td>\n",
       "    </tr>\n",
       "    <tr>\n",
       "      <th>1</th>\n",
       "      <td>0</td>\n",
       "      <td>3484</td>\n",
       "      <td>0_cricket_indies_west indies_tournament</td>\n",
       "      <td>cricket, indies, west indies, tournament, tenn...</td>\n",
       "    </tr>\n",
       "    <tr>\n",
       "      <th>2</th>\n",
       "      <td>1</td>\n",
       "      <td>516</td>\n",
       "      <td>1_radio svg_july 2018_july 2023_june 2018</td>\n",
       "      <td>radio svg, july 2018, july 2023, june 2018, ju...</td>\n",
       "    </tr>\n",
       "    <tr>\n",
       "      <th>3</th>\n",
       "      <td>2</td>\n",
       "      <td>445</td>\n",
       "      <td>2_covid 19_covid_coronavirus_19 cases</td>\n",
       "      <td>covid 19, covid, coronavirus, 19 cases, flu, q...</td>\n",
       "    </tr>\n",
       "    <tr>\n",
       "      <th>4</th>\n",
       "      <td>3</td>\n",
       "      <td>438</td>\n",
       "      <td>3_accused_prosecution_robbery_offences court</td>\n",
       "      <td>accused, prosecution, robbery, offences court,...</td>\n",
       "    </tr>\n",
       "  </tbody>\n",
       "</table>\n",
       "</div>"
      ],
      "text/plain": [
       "   Topic  Count                                          Name  \\\n",
       "0     -1   4988                        -1_2021_2023_2022_2020   \n",
       "1      0   3484       0_cricket_indies_west indies_tournament   \n",
       "2      1    516     1_radio svg_july 2018_july 2023_june 2018   \n",
       "3      2    445         2_covid 19_covid_coronavirus_19 cases   \n",
       "4      3    438  3_accused_prosecution_robbery_offences court   \n",
       "\n",
       "                                         topic_words  \n",
       "0  2021, 2023, 2022, 2020, 2019, july, june, radi...  \n",
       "1  cricket, indies, west indies, tournament, tenn...  \n",
       "2  radio svg, july 2018, july 2023, june 2018, ju...  \n",
       "3  covid 19, covid, coronavirus, 19 cases, flu, q...  \n",
       "4  accused, prosecution, robbery, offences court,...  "
      ]
     },
     "execution_count": 35,
     "metadata": {},
     "output_type": "execute_result"
    }
   ],
   "source": [
    "delim = '\\n----------------\\n----------------\\n'\n",
    "\n",
    "topic_df = topic_model.get_topic_info()\n",
    "topic_df['topic_words'] = topic_model.generate_topic_labels(nr_words=10,\n",
    "                                                            topic_prefix=False,\n",
    "                                                            word_length=50,\n",
    "                                                            separator=\", \")\n",
    "rep_doc_dict = topic_model.get_representative_docs()      \n",
    "rep_doc_dict = {k:delim.join([re.sub(r'\\n+', '\\n', text) for text in v]) for k,v in rep_doc_dict.items()} \n",
    "topic_df.head()"
   ]
  },
  {
   "cell_type": "code",
   "execution_count": 36,
   "metadata": {},
   "outputs": [],
   "source": [
    "summary_pt = {'System':\"You're a helpful assistant. Your task is to analyse hotel topics in news articles.\",\n",
    "      'Human':\"\"\"\n",
    "Please summarize the following new article with less then 100 words: \n",
    "----------------\n",
    "----------------\n",
    "\n",
    "{DOCUMENTS}\n",
    "\n",
    "----------------\n",
    "----------------\n",
    "Please write your summery below:\n",
    "\"\"\"}\n",
    "\n",
    "topic_pt = {'System':\"You're a helpful assistant. Your task is to analyse hotel topics in news articles.\",\n",
    "      'Human':\"\"\"\n",
    "I have a topic that contains the following documents delimited with ----------------: \n",
    "----------------\n",
    "----------------\n",
    "\n",
    "{DOCUMENTS}\n",
    "\n",
    "----------------\n",
    "----------------\n",
    "\n",
    "The topic is described by the following keywords: {KEYWORDS}\n",
    "\n",
    "Based on the information above, extract a short topic label, a list of topic words and a short descrption of the topic.\n",
    "Make sure the label has no more than 3 words.\n",
    "Make sure topic words arel less than 10 words.\n",
    "And also makse sure the description is only a short highlevel sumamry.  \n",
    "Please respond in clean json format as follow:\n",
    "topic: <topic label>,\n",
    "topic_words: [<topic workds>],\n",
    "description: <topic description>\n",
    "\n",
    "\"\"\"}\n",
    "#topic_pt['Human'] = topic_pt['Human'].format(DOCUMENTS=rep_doc_dict[1],KEYWORDS=topic_df.iloc[1]['topic_words'])"
   ]
  },
  {
   "cell_type": "code",
   "execution_count": 37,
   "metadata": {},
   "outputs": [
    {
     "name": "stderr",
     "output_type": "stream",
     "text": [
      "  0%|          | 0/67 [00:00<?, ?it/s]"
     ]
    },
    {
     "name": "stdout",
     "output_type": "stream",
     "text": [
      "Function failed with error HTTP code 504 from API (<HEAD><TITLE>Connection Timed Out</TITLE></HEAD>\n",
      "<BODY BGCOLOR=\"white\" FGCOLOR=\"black\"><H1>Connection Timed Out</H1><HR>\n",
      "<FONT FACE=\"Helvetica,Arial\"><B>\n",
      "Description: Connection Timed Out</B></FONT>\n",
      "<HR>\n",
      "<!-- default \"Connection Timed Out\" response (504) -->\n",
      "</BODY>\n",
      "                                                                                                                                                                                                                                                                                                                                                                                                              \u0000). Retrying after 5 seconds...\n"
     ]
    },
    {
     "name": "stderr",
     "output_type": "stream",
     "text": [
      " 21%|██        | 14/67 [01:47<02:26,  2.76s/it] "
     ]
    },
    {
     "name": "stdout",
     "output_type": "stream",
     "text": [
      "Function failed with error HTTP code 504 from API (<HEAD><TITLE>Connection Timed Out</TITLE></HEAD>\n",
      "<BODY BGCOLOR=\"white\" FGCOLOR=\"black\"><H1>Connection Timed Out</H1><HR>\n",
      "<FONT FACE=\"Helvetica,Arial\"><B>\n",
      "Description: Connection Timed Out</B></FONT>\n",
      "<HR>\n",
      "<!-- default \"Connection Timed Out\" response (504) -->\n",
      "</BODY>\n",
      "                                                                                                                                                                                                                                                                                                                                                                                                              \u0000). Retrying after 5 seconds...\n"
     ]
    },
    {
     "name": "stderr",
     "output_type": "stream",
     "text": [
      " 28%|██▊       | 19/67 [03:20<07:55,  9.91s/it]"
     ]
    },
    {
     "name": "stdout",
     "output_type": "stream",
     "text": [
      "Function failed with error HTTP code 504 from API (<HEAD><TITLE>Connection Timed Out</TITLE></HEAD>\n",
      "<BODY BGCOLOR=\"white\" FGCOLOR=\"black\"><H1>Connection Timed Out</H1><HR>\n",
      "<FONT FACE=\"Helvetica,Arial\"><B>\n",
      "Description: Connection Timed Out</B></FONT>\n",
      "<HR>\n",
      "<!-- default \"Connection Timed Out\" response (504) -->\n",
      "</BODY>\n",
      "                                                                                                                                                                                                                                                                                                                                                                                                              \u0000). Retrying after 5 seconds...\n",
      "Function failed with error HTTP code 504 from API (<HEAD><TITLE>Connection Timed Out</TITLE></HEAD>\n",
      "<BODY BGCOLOR=\"white\" FGCOLOR=\"black\"><H1>Connection Timed Out</H1><HR>\n",
      "<FONT FACE=\"Helvetica,Arial\"><B>\n",
      "Description: Connection Timed Out</B></FONT>\n",
      "<HR>\n",
      "<!-- default \"Connection Timed Out\" response (504) -->\n",
      "</BODY>\n",
      "                                                                                                                                                                                                                                                                                                                                                                                                              \u0000). Retrying after 5 seconds...\n"
     ]
    },
    {
     "name": "stderr",
     "output_type": "stream",
     "text": [
      " 39%|███▉      | 26/67 [05:45<04:49,  7.07s/it]"
     ]
    },
    {
     "name": "stdout",
     "output_type": "stream",
     "text": [
      "Function failed with error HTTP code 504 from API (<HEAD><TITLE>Connection Timed Out</TITLE></HEAD>\n",
      "<BODY BGCOLOR=\"white\" FGCOLOR=\"black\"><H1>Connection Timed Out</H1><HR>\n",
      "<FONT FACE=\"Helvetica,Arial\"><B>\n",
      "Description: Connection Timed Out</B></FONT>\n",
      "<HR>\n",
      "<!-- default \"Connection Timed Out\" response (504) -->\n",
      "</BODY>\n",
      "                                                                                                                                                                                                                                                                                                                                                                                                              \u0000). Retrying after 5 seconds...\n"
     ]
    },
    {
     "name": "stderr",
     "output_type": "stream",
     "text": [
      " 48%|████▊     | 32/67 [07:18<04:58,  8.53s/it]"
     ]
    },
    {
     "name": "stdout",
     "output_type": "stream",
     "text": [
      "Function failed with error HTTP code 504 from API (<HEAD><TITLE>Connection Timed Out</TITLE></HEAD>\n",
      "<BODY BGCOLOR=\"white\" FGCOLOR=\"black\"><H1>Connection Timed Out</H1><HR>\n",
      "<FONT FACE=\"Helvetica,Arial\"><B>\n",
      "Description: Connection Timed Out</B></FONT>\n",
      "<HR>\n",
      "<!-- default \"Connection Timed Out\" response (504) -->\n",
      "</BODY>\n",
      "                                                                                                                                                                                                                                                                                                                                                                                                              \u0000). Retrying after 5 seconds...\n"
     ]
    },
    {
     "name": "stderr",
     "output_type": "stream",
     "text": [
      " 58%|█████▊    | 39/67 [09:04<03:59,  8.56s/it]"
     ]
    },
    {
     "name": "stdout",
     "output_type": "stream",
     "text": [
      "Function failed with error HTTP code 504 from API (<HEAD><TITLE>Connection Timed Out</TITLE></HEAD>\n",
      "<BODY BGCOLOR=\"white\" FGCOLOR=\"black\"><H1>Connection Timed Out</H1><HR>\n",
      "<FONT FACE=\"Helvetica,Arial\"><B>\n",
      "Description: Connection Timed Out</B></FONT>\n",
      "<HR>\n",
      "<!-- default \"Connection Timed Out\" response (504) -->\n",
      "</BODY>\n",
      "                                                                                                                                                                                                                                                                                                                                                                                                              \u0000). Retrying after 5 seconds...\n",
      "Function failed with error HTTP code 504 from API (<HEAD><TITLE>Connection Timed Out</TITLE></HEAD>\n",
      "<BODY BGCOLOR=\"white\" FGCOLOR=\"black\"><H1>Connection Timed Out</H1><HR>\n",
      "<FONT FACE=\"Helvetica,Arial\"><B>\n",
      "Description: Connection Timed Out</B></FONT>\n",
      "<HR>\n",
      "<!-- default \"Connection Timed Out\" response (504) -->\n",
      "</BODY>\n",
      "                                                                                                                                                                                                                                                                                                                                                                                                              \u0000). Retrying after 5 seconds...\n"
     ]
    },
    {
     "name": "stderr",
     "output_type": "stream",
     "text": [
      " 61%|██████    | 41/67 [11:28<15:10, 35.03s/it]"
     ]
    },
    {
     "name": "stdout",
     "output_type": "stream",
     "text": [
      "Function failed with error HTTP code 504 from API (<HEAD><TITLE>Connection Timed Out</TITLE></HEAD>\n",
      "<BODY BGCOLOR=\"white\" FGCOLOR=\"black\"><H1>Connection Timed Out</H1><HR>\n",
      "<FONT FACE=\"Helvetica,Arial\"><B>\n",
      "Description: Connection Timed Out</B></FONT>\n",
      "<HR>\n",
      "<!-- default \"Connection Timed Out\" response (504) -->\n",
      "</BODY>\n",
      "                                                                                                                                                                                                                                                                                                                                                                                                              \u0000). Retrying after 5 seconds...\n"
     ]
    },
    {
     "name": "stderr",
     "output_type": "stream",
     "text": [
      " 73%|███████▎  | 49/67 [12:51<01:44,  5.80s/it]"
     ]
    },
    {
     "name": "stdout",
     "output_type": "stream",
     "text": [
      "Function failed with error HTTP code 504 from API (<HEAD><TITLE>Connection Timed Out</TITLE></HEAD>\n",
      "<BODY BGCOLOR=\"white\" FGCOLOR=\"black\"><H1>Connection Timed Out</H1><HR>\n",
      "<FONT FACE=\"Helvetica,Arial\"><B>\n",
      "Description: Connection Timed Out</B></FONT>\n",
      "<HR>\n",
      "<!-- default \"Connection Timed Out\" response (504) -->\n",
      "</BODY>\n",
      "                                                                                                                                                                                                                                                                                                                                                                                                              \u0000). Retrying after 5 seconds...\n"
     ]
    },
    {
     "name": "stderr",
     "output_type": "stream",
     "text": [
      " 76%|███████▌  | 51/67 [14:03<04:53, 18.32s/it]"
     ]
    },
    {
     "name": "stdout",
     "output_type": "stream",
     "text": [
      "Function failed with error HTTP code 502 from API (<html>\n",
      "<head><title>502 Bad Gateway</title></head>\n",
      "<body>\n",
      "<center><h1>502 Bad Gateway</h1></center>\n",
      "<hr><center>cloudflare</center>\n",
      "</body>\n",
      "</html>\n",
      "). Retrying after 5 seconds...\n"
     ]
    },
    {
     "name": "stderr",
     "output_type": "stream",
     "text": [
      " 82%|████████▏ | 55/67 [14:25<01:33,  7.81s/it]"
     ]
    },
    {
     "name": "stdout",
     "output_type": "stream",
     "text": [
      "Function failed with error HTTP code 504 from API (<HEAD><TITLE>Connection Timed Out</TITLE></HEAD>\n",
      "<BODY BGCOLOR=\"white\" FGCOLOR=\"black\"><H1>Connection Timed Out</H1><HR>\n",
      "<FONT FACE=\"Helvetica,Arial\"><B>\n",
      "Description: Connection Timed Out</B></FONT>\n",
      "<HR>\n",
      "<!-- default \"Connection Timed Out\" response (504) -->\n",
      "</BODY>\n",
      "                                                                                                                                                                                                                                                                                                                                                                                                              \u0000). Retrying after 5 seconds...\n"
     ]
    },
    {
     "name": "stderr",
     "output_type": "stream",
     "text": [
      " 94%|█████████▍| 63/67 [15:50<00:17,  4.34s/it]"
     ]
    },
    {
     "name": "stdout",
     "output_type": "stream",
     "text": [
      "Function failed with error HTTP code 504 from API (<HEAD><TITLE>Connection Timed Out</TITLE></HEAD>\n",
      "<BODY BGCOLOR=\"white\" FGCOLOR=\"black\"><H1>Connection Timed Out</H1><HR>\n",
      "<FONT FACE=\"Helvetica,Arial\"><B>\n",
      "Description: Connection Timed Out</B></FONT>\n",
      "<HR>\n",
      "<!-- default \"Connection Timed Out\" response (504) -->\n",
      "</BODY>\n",
      "                                                                                                                                                                                                                                                                                                                                                                                                              \u0000). Retrying after 5 seconds...\n"
     ]
    },
    {
     "name": "stderr",
     "output_type": "stream",
     "text": [
      "100%|██████████| 67/67 [17:04<00:00, 15.29s/it]\n"
     ]
    }
   ],
   "source": [
    "llm_res = []\n",
    "for k,v in tqdm(rep_doc_dict.items()):\n",
    "    topic_pt_temp = copy.copy(topic_pt)\n",
    "    topic_pt_temp['Human']=topic_pt_temp['Human'].format(DOCUMENTS=v,KEYWORDS=topic_df.iloc[k]['topic_words'])\n",
    "    try:\n",
    "        res = llm_agent.get_response_content(prompt_template=topic_pt_temp,conv_history=[])\n",
    "        res_dict = llm_agent.parse_load_json_str(res)\n",
    "    except:\n",
    "        res_dict = {'topic':None,'topic_words':None,'description':None}\n",
    "    #print(res_dict['topic'])\n",
    "    res_dict['topic_id'] = k\n",
    "    llm_res.append(res_dict)"
   ]
  },
  {
   "cell_type": "code",
   "execution_count": 38,
   "metadata": {},
   "outputs": [
    {
     "data": {
      "text/html": [
       "<div>\n",
       "<style scoped>\n",
       "    .dataframe tbody tr th:only-of-type {\n",
       "        vertical-align: middle;\n",
       "    }\n",
       "\n",
       "    .dataframe tbody tr th {\n",
       "        vertical-align: top;\n",
       "    }\n",
       "\n",
       "    .dataframe thead th {\n",
       "        text-align: right;\n",
       "    }\n",
       "</style>\n",
       "<table border=\"1\" class=\"dataframe\">\n",
       "  <thead>\n",
       "    <tr style=\"text-align: right;\">\n",
       "      <th></th>\n",
       "      <th>llm_topic</th>\n",
       "      <th>llm_topic_words</th>\n",
       "      <th>llm_description</th>\n",
       "      <th>llm_topic_id</th>\n",
       "    </tr>\n",
       "  </thead>\n",
       "  <tbody>\n",
       "    <tr>\n",
       "      <th>0</th>\n",
       "      <td>Chocolate Cake Recipe</td>\n",
       "      <td>[recipe, baking, chocolate, cake, icing, sugar...</td>\n",
       "      <td>A collection of articles discussing chocolate ...</td>\n",
       "      <td>-1</td>\n",
       "    </tr>\n",
       "    <tr>\n",
       "      <th>1</th>\n",
       "      <td>Cricket Season 2017</td>\n",
       "      <td>[Cricket, Season, Competition, Tournament, Pla...</td>\n",
       "      <td>Summary of the 2017 cricket season in St Vince...</td>\n",
       "      <td>0</td>\n",
       "    </tr>\n",
       "    <tr>\n",
       "      <th>2</th>\n",
       "      <td>Cricket Tournament</td>\n",
       "      <td>[cricket, Indies, West Indies, tournament, mat...</td>\n",
       "      <td>Coverage of a cricket tournament in the West I...</td>\n",
       "      <td>1</td>\n",
       "    </tr>\n",
       "    <tr>\n",
       "      <th>3</th>\n",
       "      <td>Covid-19 in SVG</td>\n",
       "      <td>[Covid-19, St. Vincent and the Grenadines, cas...</td>\n",
       "      <td>Updates on the Covid-19 situation in St. Vince...</td>\n",
       "      <td>2</td>\n",
       "    </tr>\n",
       "    <tr>\n",
       "      <th>4</th>\n",
       "      <td>Legal Issues in Court</td>\n",
       "      <td>[court, magistrate, charges, sentencing, bail]</td>\n",
       "      <td>This topic covers various legal issues in cour...</td>\n",
       "      <td>3</td>\n",
       "    </tr>\n",
       "  </tbody>\n",
       "</table>\n",
       "</div>"
      ],
      "text/plain": [
       "               llm_topic                                    llm_topic_words  \\\n",
       "0  Chocolate Cake Recipe  [recipe, baking, chocolate, cake, icing, sugar...   \n",
       "1    Cricket Season 2017  [Cricket, Season, Competition, Tournament, Pla...   \n",
       "2     Cricket Tournament  [cricket, Indies, West Indies, tournament, mat...   \n",
       "3        Covid-19 in SVG  [Covid-19, St. Vincent and the Grenadines, cas...   \n",
       "4  Legal Issues in Court     [court, magistrate, charges, sentencing, bail]   \n",
       "\n",
       "                                     llm_description  llm_topic_id  \n",
       "0  A collection of articles discussing chocolate ...            -1  \n",
       "1  Summary of the 2017 cricket season in St Vince...             0  \n",
       "2  Coverage of a cricket tournament in the West I...             1  \n",
       "3  Updates on the Covid-19 situation in St. Vince...             2  \n",
       "4  This topic covers various legal issues in cour...             3  "
      ]
     },
     "execution_count": 38,
     "metadata": {},
     "output_type": "execute_result"
    }
   ],
   "source": [
    "llm_df = pd.DataFrame(llm_res)\n",
    "llm_df=llm_df.sort_values('topic_id',ascending=True)\n",
    "llm_df.columns = ['llm_topic','llm_topic_words','llm_description','llm_topic_id']\n",
    "llm_df.head()"
   ]
  },
  {
   "cell_type": "code",
   "execution_count": 39,
   "metadata": {},
   "outputs": [
    {
     "data": {
      "text/html": [
       "<div>\n",
       "<style scoped>\n",
       "    .dataframe tbody tr th:only-of-type {\n",
       "        vertical-align: middle;\n",
       "    }\n",
       "\n",
       "    .dataframe tbody tr th {\n",
       "        vertical-align: top;\n",
       "    }\n",
       "\n",
       "    .dataframe thead th {\n",
       "        text-align: right;\n",
       "    }\n",
       "</style>\n",
       "<table border=\"1\" class=\"dataframe\">\n",
       "  <thead>\n",
       "    <tr style=\"text-align: right;\">\n",
       "      <th></th>\n",
       "      <th>Topic</th>\n",
       "      <th>Count</th>\n",
       "      <th>Name</th>\n",
       "      <th>topic_words</th>\n",
       "      <th>llm_topic</th>\n",
       "      <th>llm_topic_words</th>\n",
       "      <th>llm_description</th>\n",
       "      <th>llm_topic_id</th>\n",
       "    </tr>\n",
       "  </thead>\n",
       "  <tbody>\n",
       "    <tr>\n",
       "      <th>0</th>\n",
       "      <td>-1</td>\n",
       "      <td>4988</td>\n",
       "      <td>-1_2021_2023_2022_2020</td>\n",
       "      <td>2021, 2023, 2022, 2020, 2019, july, june, radi...</td>\n",
       "      <td>Chocolate Cake Recipe</td>\n",
       "      <td>[recipe, baking, chocolate, cake, icing, sugar...</td>\n",
       "      <td>A collection of articles discussing chocolate ...</td>\n",
       "      <td>-1</td>\n",
       "    </tr>\n",
       "    <tr>\n",
       "      <th>1</th>\n",
       "      <td>0</td>\n",
       "      <td>3484</td>\n",
       "      <td>0_cricket_indies_west indies_tournament</td>\n",
       "      <td>cricket, indies, west indies, tournament, tenn...</td>\n",
       "      <td>Cricket Season 2017</td>\n",
       "      <td>[Cricket, Season, Competition, Tournament, Pla...</td>\n",
       "      <td>Summary of the 2017 cricket season in St Vince...</td>\n",
       "      <td>0</td>\n",
       "    </tr>\n",
       "    <tr>\n",
       "      <th>2</th>\n",
       "      <td>1</td>\n",
       "      <td>516</td>\n",
       "      <td>1_radio svg_july 2018_july 2023_june 2018</td>\n",
       "      <td>radio svg, july 2018, july 2023, june 2018, ju...</td>\n",
       "      <td>Cricket Tournament</td>\n",
       "      <td>[cricket, Indies, West Indies, tournament, mat...</td>\n",
       "      <td>Coverage of a cricket tournament in the West I...</td>\n",
       "      <td>1</td>\n",
       "    </tr>\n",
       "    <tr>\n",
       "      <th>3</th>\n",
       "      <td>2</td>\n",
       "      <td>445</td>\n",
       "      <td>2_covid 19_covid_coronavirus_19 cases</td>\n",
       "      <td>covid 19, covid, coronavirus, 19 cases, flu, q...</td>\n",
       "      <td>Covid-19 in SVG</td>\n",
       "      <td>[Covid-19, St. Vincent and the Grenadines, cas...</td>\n",
       "      <td>Updates on the Covid-19 situation in St. Vince...</td>\n",
       "      <td>2</td>\n",
       "    </tr>\n",
       "    <tr>\n",
       "      <th>4</th>\n",
       "      <td>3</td>\n",
       "      <td>438</td>\n",
       "      <td>3_accused_prosecution_robbery_offences court</td>\n",
       "      <td>accused, prosecution, robbery, offences court,...</td>\n",
       "      <td>Legal Issues in Court</td>\n",
       "      <td>[court, magistrate, charges, sentencing, bail]</td>\n",
       "      <td>This topic covers various legal issues in cour...</td>\n",
       "      <td>3</td>\n",
       "    </tr>\n",
       "  </tbody>\n",
       "</table>\n",
       "</div>"
      ],
      "text/plain": [
       "   Topic  Count                                          Name  \\\n",
       "0     -1   4988                        -1_2021_2023_2022_2020   \n",
       "1      0   3484       0_cricket_indies_west indies_tournament   \n",
       "2      1    516     1_radio svg_july 2018_july 2023_june 2018   \n",
       "3      2    445         2_covid 19_covid_coronavirus_19 cases   \n",
       "4      3    438  3_accused_prosecution_robbery_offences court   \n",
       "\n",
       "                                         topic_words              llm_topic  \\\n",
       "0  2021, 2023, 2022, 2020, 2019, july, june, radi...  Chocolate Cake Recipe   \n",
       "1  cricket, indies, west indies, tournament, tenn...    Cricket Season 2017   \n",
       "2  radio svg, july 2018, july 2023, june 2018, ju...     Cricket Tournament   \n",
       "3  covid 19, covid, coronavirus, 19 cases, flu, q...        Covid-19 in SVG   \n",
       "4  accused, prosecution, robbery, offences court,...  Legal Issues in Court   \n",
       "\n",
       "                                     llm_topic_words  \\\n",
       "0  [recipe, baking, chocolate, cake, icing, sugar...   \n",
       "1  [Cricket, Season, Competition, Tournament, Pla...   \n",
       "2  [cricket, Indies, West Indies, tournament, mat...   \n",
       "3  [Covid-19, St. Vincent and the Grenadines, cas...   \n",
       "4     [court, magistrate, charges, sentencing, bail]   \n",
       "\n",
       "                                     llm_description  llm_topic_id  \n",
       "0  A collection of articles discussing chocolate ...            -1  \n",
       "1  Summary of the 2017 cricket season in St Vince...             0  \n",
       "2  Coverage of a cricket tournament in the West I...             1  \n",
       "3  Updates on the Covid-19 situation in St. Vince...             2  \n",
       "4  This topic covers various legal issues in cour...             3  "
      ]
     },
     "execution_count": 39,
     "metadata": {},
     "output_type": "execute_result"
    }
   ],
   "source": [
    "final_result = pd.merge(topic_df, llm_df, how='left',left_on='Topic',right_on='llm_topic_id')\n",
    "final_result.head()"
   ]
  },
  {
   "cell_type": "code",
   "execution_count": 40,
   "metadata": {},
   "outputs": [],
   "source": [
    "llm_fintune_out = os.path.join(res_folder,'llm_results.xlsx')\n",
    "final_result.to_excel(llm_fintune_out)"
   ]
  },
  {
   "cell_type": "code",
   "execution_count": null,
   "metadata": {},
   "outputs": [],
   "source": []
  }
 ],
 "metadata": {
  "kernelspec": {
   "display_name": "sbert",
   "language": "python",
   "name": "python3"
  },
  "language_info": {
   "codemirror_mode": {
    "name": "ipython",
    "version": 3
   },
   "file_extension": ".py",
   "mimetype": "text/x-python",
   "name": "python",
   "nbconvert_exporter": "python",
   "pygments_lexer": "ipython3",
   "version": "3.8.13"
  }
 },
 "nbformat": 4,
 "nbformat_minor": 2
}
